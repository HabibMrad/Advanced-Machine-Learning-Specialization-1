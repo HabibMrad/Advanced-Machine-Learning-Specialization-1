{
 "cells": [
  {
   "cell_type": "markdown",
   "metadata": {
    "slideshow": {
     "slide_type": "slide"
    }
   },
   "source": [
    "# MNIST digits classification with TensorFlow"
   ]
  },
  {
   "cell_type": "markdown",
   "metadata": {},
   "source": [
    "<img src=\"images/mnist_sample.png\" style=\"width:30%\">"
   ]
  },
  {
   "cell_type": "code",
   "execution_count": 1,
   "metadata": {},
   "outputs": [
    {
     "name": "stdout",
     "output_type": "stream",
     "text": [
      "We're using TF 1.2.1\n"
     ]
    },
    {
     "name": "stderr",
     "output_type": "stream",
     "text": [
      "Using TensorFlow backend.\n"
     ]
    }
   ],
   "source": [
    "import numpy as np\n",
    "from sklearn.metrics import accuracy_score\n",
    "from matplotlib import pyplot as plt\n",
    "%matplotlib inline\n",
    "import tensorflow as tf\n",
    "print(\"We're using TF\", tf.__version__)\n",
    "\n",
    "import sys\n",
    "sys.path.append(\"../..\")\n",
    "import grading\n",
    "\n",
    "import matplotlib_utils\n",
    "from importlib import reload\n",
    "reload(matplotlib_utils)\n",
    "\n",
    "import grading_utils\n",
    "reload(grading_utils)\n",
    "\n",
    "import keras_utils\n",
    "from keras_utils import reset_tf_session"
   ]
  },
  {
   "cell_type": "markdown",
   "metadata": {},
   "source": [
    "# Fill in your Coursera token and email\n",
    "To successfully submit your answers to our grader, please fill in your Coursera submission token and email"
   ]
  },
  {
   "cell_type": "code",
   "execution_count": 2,
   "metadata": {},
   "outputs": [],
   "source": [
    "grader = grading.Grader(assignment_key=\"XtD7ho3TEeiHQBLWejjYAA\", \n",
    "                        all_parts=[\"9XaAS\", \"vmogZ\", \"RMv95\", \"i8bgs\", \"rE763\"])"
   ]
  },
  {
   "cell_type": "code",
   "execution_count": 3,
   "metadata": {},
   "outputs": [],
   "source": [
    "# token expires every 30 min\n",
    "COURSERA_TOKEN = \"XmmPWhOhnFx36H2L\"\n",
    "COURSERA_EMAIL = \"lvduzhen@gmail.com\""
   ]
  },
  {
   "cell_type": "markdown",
   "metadata": {},
   "source": [
    "# Look at the data\n",
    "\n",
    "In this task we have 50000 28x28 images of digits from 0 to 9.\n",
    "We will train a classifier on this data."
   ]
  },
  {
   "cell_type": "code",
   "execution_count": 5,
   "metadata": {},
   "outputs": [
    {
     "name": "stdout",
     "output_type": "stream",
     "text": [
      "Downloading data from https://s3.amazonaws.com/img-datasets/mnist.npz\n",
      "11476992/11490434 [============================>.] - ETA: 0s"
     ]
    }
   ],
   "source": [
    "import preprocessed_mnist\n",
    "X_train, y_train, X_val, y_val, X_test, y_test = preprocessed_mnist.load_dataset()"
   ]
  },
  {
   "cell_type": "code",
   "execution_count": 6,
   "metadata": {},
   "outputs": [
    {
     "name": "stdout",
     "output_type": "stream",
     "text": [
      "X_train [shape (50000, 28, 28)] sample patch:\n",
      " [[ 0.          0.29803922  0.96470588  0.98823529  0.43921569]\n",
      " [ 0.          0.33333333  0.98823529  0.90196078  0.09803922]\n",
      " [ 0.          0.33333333  0.98823529  0.8745098   0.        ]\n",
      " [ 0.          0.33333333  0.98823529  0.56862745  0.        ]\n",
      " [ 0.          0.3372549   0.99215686  0.88235294  0.        ]]\n",
      "A closeup of a sample patch:\n"
     ]
    },
    {
     "data": {
      "image/png": "[encoded data removed]",
      "text/plain": [
       "<matplotlib.figure.Figure at 0x7f92ab5cf828>"
      ]
     },
     "metadata": {},
     "output_type": "display_data"
    },
    {
     "name": "stdout",
     "output_type": "stream",
     "text": [
      "And the whole sample:\n"
     ]
    },
    {
     "data": {
      "image/png": "[encoded data removed]",
      "text/plain": [
       "<matplotlib.figure.Figure at 0x7f92a94ebeb8>"
      ]
     },
     "metadata": {},
     "output_type": "display_data"
    },
    {
     "name": "stdout",
     "output_type": "stream",
     "text": [
      "y_train [shape (50000,)] 10 samples:\n",
      " [5 0 4 1 9 2 1 3 1 4]\n"
     ]
    }
   ],
   "source": [
    "# X contains rgb values divided by 255\n",
    "print(\"X_train [shape %s] sample patch:\\n\" % (str(X_train.shape)), X_train[1, 15:20, 5:10])\n",
    "print(\"A closeup of a sample patch:\")\n",
    "plt.imshow(X_train[1, 15:20, 5:10], cmap=\"Greys\")\n",
    "plt.show()\n",
    "print(\"And the whole sample:\")\n",
    "plt.imshow(X_train[1], cmap=\"Greys\")\n",
    "plt.show()\n",
    "print(\"y_train [shape %s] 10 samples:\\n\" % (str(y_train.shape)), y_train[:10])"
   ]
  },
  {
   "cell_type": "markdown",
   "metadata": {},
   "source": [
    "# Linear model\n",
    "\n",
    "Your task is to train a linear classifier $\\vec{x} \\rightarrow y$ with SGD using TensorFlow.\n",
    "\n",
    "You will need to calculate a logit (a linear transformation) $z_k$ for each class: \n",
    "$$z_k = \\vec{x} \\cdot \\vec{w_k} + b_k \\quad k = 0..9$$\n",
    "\n",
    "And transform logits $z_k$ to valid probabilities $p_k$ with softmax: \n",
    "$$p_k = \\frac{e^{z_k}}{\\sum_{i=0}^{9}{e^{z_i}}} \\quad k = 0..9$$\n",
    "\n",
    "We will use a cross-entropy loss to train our multi-class classifier:\n",
    "$$\\text{cross-entropy}(y, p) = -\\sum_{k=0}^{9}{\\log(p_k)[y = k]}$$ \n",
    "\n",
    "where \n",
    "$$\n",
    "[x]=\\begin{cases}\n",
    "       1, \\quad \\text{if $x$ is true} \\\\\n",
    "       0, \\quad \\text{otherwise}\n",
    "    \\end{cases}\n",
    "$$\n",
    "\n",
    "Cross-entropy minimization pushes $p_k$ close to 1 when $y = k$, which is what we want.\n",
    "\n",
    "Here's the plan:\n",
    "* Flatten the images (28x28 -> 784) with `X_train.reshape((X_train.shape[0], -1))` to simplify our linear model implementation\n",
    "* Use a matrix placeholder for flattened `X_train`\n",
    "* Convert `y_train` to one-hot encoded vectors that are needed for cross-entropy\n",
    "* Use a shared variable `W` for all weights (a column $\\vec{w_k}$ per class) and `b` for all biases.\n",
    "* Aim for ~0.93 validation accuracy"
   ]
  },
  {
   "cell_type": "code",
   "execution_count": 7,
   "metadata": {},
   "outputs": [
    {
     "name": "stdout",
     "output_type": "stream",
     "text": [
      "(50000, 784)\n",
      "(10000, 784)\n"
     ]
    }
   ],
   "source": [
    "X_train_flat = X_train.reshape((X_train.shape[0], -1))\n",
    "print(X_train_flat.shape)\n",
    "\n",
    "X_val_flat = X_val.reshape((X_val.shape[0], -1))\n",
    "print(X_val_flat.shape)"
   ]
  },
  {
   "cell_type": "code",
   "execution_count": 44,
   "metadata": {},
   "outputs": [
    {
     "name": "stdout",
     "output_type": "stream",
     "text": [
      "(50000, 10)\n",
      "[[ 0.  0.  0.  0.  0.  1.  0.  0.  0.  0.]\n",
      " [ 1.  0.  0.  0.  0.  0.  0.  0.  0.  0.]\n",
      " [ 0.  0.  0.  0.  1.  0.  0.  0.  0.  0.]] [5 0 4]\n"
     ]
    }
   ],
   "source": [
    "import keras\n",
    "\n",
    "y_train_oh = keras.utils.to_categorical(y_train, 10)\n",
    "y_val_oh = keras.utils.to_categorical(y_val, 10)\n",
    "\n",
    "print(y_train_oh.shape)\n",
    "print(y_train_oh[:3], y_train[:3])"
   ]
  },
  {
   "cell_type": "code",
   "execution_count": 57,
   "metadata": {},
   "outputs": [],
   "source": [
    "# run this again if you remake your graph\n",
    "s = reset_tf_session()"
   ]
  },
  {
   "cell_type": "code",
   "execution_count": 58,
   "metadata": {},
   "outputs": [
    {
     "data": {
      "text/plain": [
       "(<tf.Variable 'W:0' shape=(784, 10) dtype=float32_ref>,\n",
       " <tf.Variable 'b:0' shape=(10,) dtype=float32_ref>)"
      ]
     },
     "execution_count": 58,
     "metadata": {},
     "output_type": "execute_result"
    }
   ],
   "source": [
    "# Model parameters: W and b\n",
    "W = tf.get_variable(name = \"W\", shape = (784,10),initializer=tf.contrib.layers.xavier_initializer())\n",
    "b = tf.get_variable(name = \"b\", shape = (10,),initializer=tf.zeros_initializer())\n",
    "W,b"
   ]
  },
  {
   "cell_type": "code",
   "execution_count": 62,
   "metadata": {},
   "outputs": [
    {
     "data": {
      "text/plain": [
       "(<tf.Tensor 'input_X:0' shape=(?, 784) dtype=float32>,\n",
       " <tf.Tensor 'input_y:0' shape=(?, 10) dtype=float32>)"
      ]
     },
     "execution_count": 62,
     "metadata": {},
     "output_type": "execute_result"
    }
   ],
   "source": [
    "# Placeholders for the input data\n",
    "input_X = tf.placeholder(shape = (None,784),name = \"input_X\", dtype = tf.float32)\n",
    "input_y = tf.placeholder(shape = (None,10),name = \"input_y\", dtype = tf.float32) \n",
    "\n",
    "input_X, input_y"
   ]
  },
  {
   "cell_type": "code",
   "execution_count": 63,
   "metadata": {},
   "outputs": [],
   "source": [
    "# Compute predictions\n",
    "logits = input_X @ W + b\n",
    "probas = tf.nn.softmax(logits)\n",
    "classes = tf.argmax(probas, axis = 1)\n",
    "\n",
    "# Loss should be a scalar number: average loss over all the objects with tf.reduce_mean().\n",
    "# Use tf.nn.softmax_cross_entropy_with_logits on top of one-hot encoded input_y and logits.\n",
    "# It is identical to calculating cross-entropy on top of probas, but is more numerically friendly (read the docs).\n",
    "loss =tf.reduce_mean(tf.nn.softmax_cross_entropy_with_logits(labels = input_y, logits = logits))\n",
    "\n",
    "# Use a default tf.train.AdamOptimizer to get an SGD step\n",
    "step = tf.train.AdamOptimizer().minimize(loss)"
   ]
  },
  {
   "cell_type": "code",
   "execution_count": 64,
   "metadata": {
    "scrolled": false
   },
   "outputs": [
    {
     "data": {
      "text/html": [
       "<img src=\"data:image/jpeg;base64,/9j/4AAQSkZJRgABAQAAAQABAAD/2wBDAAIBAQEBAQIBAQECAgICAgQDAgICAgUEBAMEBgUGBgYFBgYGBwkIBgcJBwYGCAsICQoKCgoKBggLDAsKDAkKCgr/2wBDAQICAgICAgUDAwUKBwYHCgoKCgoKCgoKCgoKCgoKCgoKCgoKCgoKCgoKCgoKCgoKCgoKCgoKCgoKCgoKCgoKCgr/wAARCAEgA2ADASIAAhEBAxEB/8QAHwAAAQUBAQEBAQEAAAAAAAAAAAECAwQFBgcICQoL/8QAtRAAAgEDAwIEAwUFBAQAAAF9AQIDAAQRBRIhMUEGE1FhByJxFDKBkaEII0KxwRVS0fAkM2JyggkKFhcYGRolJicoKSo0NTY3ODk6Q0RFRkdISUpTVFVWV1hZWmNkZWZnaGlqc3R1dnd4eXqDhIWGh4iJipKTlJWWl5iZmqKjpKWmp6ipqrKztLW2t7i5usLDxMXGx8jJytLT1NXW19jZ2uHi4%2BTl5ufo6erx8vP09fb3%2BPn6/8QAHwEAAwEBAQEBAQEBAQAAAAAAAAECAwQFBgcICQoL/8QAtREAAgECBAQDBAcFBAQAAQJ3AAECAxEEBSExBhJBUQdhcRMiMoEIFEKRobHBCSMzUvAVYnLRChYkNOEl8RcYGRomJygpKjU2Nzg5OkNERUZHSElKU1RVVldYWVpjZGVmZ2hpanN0dXZ3eHl6goOEhYaHiImKkpOUlZaXmJmaoqOkpaanqKmqsrO0tba3uLm6wsPExcbHyMnK0tPU1dbX2Nna4uPk5ebn6Onq8vP09fb3%2BPn6/9oADAMBAAIRAxEAPwD9/KKKKACiiigAooooAKKKKACiiigAooooAKKKKACiiigAooooAKKKKACiiigAooooAKKKKACiiigAooooAKKKKACiiigAooooAKKKKACiiigAooooAKKKKACiiigAooooAKKKKACiiigAooooAKKKKACiiigAooooAKKKKACiiigAooooAKKKKACiiigAooooAKKKKACiiigAooooAKKKKACiiigAooooAKKKKACiiigAooooAKKKKACiiigAooooAKKKKACiiigAooooAKKKKACiiigAooooAKKKKACiiigAooooAKKKKACiiigAooooAKKKKACiiigAooooAKKKKACiiigAooooAKKKKACvPfjt%2B1J8FP2b5NGsfil4g1Maj4ilnTQNB8OeF9R1zVNR8lVed4bHTbee5kjiVkMkixlI96biu5c%2BhV4N%2B0P8D/j5/wANJ%2BDv2tv2bLLwfrWueH/B2seFNX8KeOdcutLtLywv7mwuxcQXtraXj288U2noCpt3WVJSCUKK1ABpf/BTL9izWLvxPb2nxXv0h8FWsk/jLUrvwXrEFjoIS0iu9l5dy2iwWsrQzRskMjrJIWKorMrKL2n/APBQ/wDZK1HwBrXxFTx/q9vB4f1ay0vVdE1DwNrNrrkV5ebfscC6PNaLqEr3AYGER27eaAxTcFYjy2b9gH4y%2BMf2a/jn8NfGHinwppHin4o/FS38daHc6U1xeWFpeW0OiywQ3IkihkkiN3pRRwoyYHGDuJVaPi79i/8AaV%2BLmr/Ef45fG34S/CjWvFnjWx8KaPp/gKy%2BI2s2Wm6fY6Hcaldw3qa7b6al5DqDXOqTOksVoPJSKNFZiWcgHsviH9vv9mzwv4a8OeI9XvvG3meK0v5NE8P2vwm8SXGuSRWUscV3NJpMWntf28MLzQq8s0CIpmiy37xM%2Bmaz8RPBHhv4e3XxX8T%2BJbbSvDljo76rf6vqrfZYbSySIzPPMZdvlKsYLNvxtAOcYNfGHin9hH9s/WPgX4X8Nay3hfxV470a58RHRfGV/wDHbxNpGr%2BCLW%2BuUktLO11q1sJLzXIYkjhEy3qw/aTbReYCFGPUfjR/wTotfj1%2Bzb4n%2BHHxD%2BOfjW78d%2BMPhfH4Z17xS3jbWho818tpDE2oJoS3y2FuzzQLK3kRRSEPIBIrSM5AOkg/4KUfsZf8K58V/FbWPite6Jo3giysr7xQ/ifwdq%2Bk3NlZXkxhtb37LeWsVxJaSyK6pcxxtC3luQ%2BEYjj/AI3f8FZP2d/hn8ENU%2BMfgPRfFXiqbQfiD4X8L674Y/4QXXbHU7A6zqVrax3T2cmnNdeV5Fw88DeT5d48aW8MhknjB8r1T/gmJ8ZPHfwq8faR4i8DeG9G8Y%2BI9D0fR7DxDqv7RfjPxut3aWusW%2BoTRyf27AfsEZ8likUSzHe%2BGkxknv8A9qH9gz40/GD4g/F/4g%2BBfEPheOTxfB8LbzwlZ6tfXMSvf%2BE/EdzrUsN40dvJ5ENwGt4VljEzrl2MfyKrgHqFh/wUE/Zb1H4m2XwZh8T%2BJo/Fd5oun6xLoF38N9egudO0%2B9adILu/SSyU6dDut5VeS68pYiFEhQum6j4a/wCCmH7FPi3wZ4s%2BIWkfGC4TR/Bfgi68Zaxe6h4S1W0Fx4et0Z5tWsVntUbVLNVQ4nsxPGxZArEugbB0P9kP4ofEP4mfG74g/G9fD2gxfGj4O%2BHfCF1Y%2BE9duNRl0u4tE11Ltlnns7XzYwNViMT7FZikm6OPA3fN37Y37Kn7UOj/ALDHxS%2BJv7TF34AtIfhD%2BxT8QfBHhePwFqF5cNrzXukWxn1G6W5toBYqE0i3CWcbXAVppCZ22oKAPrPw9/wUl/Yy8TaHrHiPT/i1dQWehppU1/JqnhLVbJmtNSu1s7HUIUuLVGubCWdgovoQ9qoDO0qorMPT9E%2BLvw88R/FLX/gvofiH7T4k8LaXp%2Boa/YR2k22zgvmuBa7pinlF3%2ByzHy1cyKoRmVVkjLfJOofsz%2BIPFegeKfjb/wAFIvF/wz8J%2BBbf9nu5%2BHUlx4f8QTLay6beyQyXmq3k17BbpYOTBbCG2QzCAmT/AEiQsuOw/wCCPngP4u2f7I9r8f8A9pDUDf8AxJ%2BL15H4n8V6g9nJbtJCLSCy01fKl%2BeH/iX2lpI0TYKSzTZAYtkA%2BqqKKKACiiigAooooAKKKKACiiigAooooAKKKKACiiigAooooAKKKKACiiigAooooAKKKKACiiigAooooAKKKKACiiigAooooAK8R0j/AIKMfse6ld69Z6n8Urzw83hzw5c%2BINQk8a%2BEdV0GObSbd0jnv7WTUrWBb63R5IlaW2MqAyxjOXXPtN7FczWcsNndCCZ4mWKYx7/LYjhtp64POO9fmJq//BHL9uX4v6t4X1z43fHHQ31vw14P1Cz1DxRqHxW8TeJx4h1v7ZpV9a6idLvoobLSbaS50xfPsLIBRHJtWWQKgUA%2B2X/b/wD2YbX4aN8WNY8QeKtK0ttcg0axs9c%2BGWv2GqanfzIZIYLLTbixS9v2kQM6/Z4ZAyo7AkIxHReA/wBqz4H/ABH1%2By8J%2BHPEOqQ6vf8AhSfxJDpGteFdS0y7TTYbv7JLLLDeW8UkDrP8hhkVZe%2BzbzXk3xO%2BDn7bvxib4e/G3XPBvwq0P4h/Cjx1NrHh/wAM2vjjUr/Rdcs7jSbvTLmO4vn0qGaxmKXskkbpa3AjMQU%2BYJGxV%2BJPwG/bg1/4y%2BHf2mvA%2BjfCu08WX3ww1XwX4x0LUvFepSWGkLcX8N1a39lcJpwk1AxCN1kt5YrQSlxiWLHIB3Gk/wDBRv8AZA8R694F8LeFfiNqus6n8SfBuleLfBunaJ4H1m9nvND1F9lrqMiQWjNa2%2B7HmSTiNbcMpm8oMCdj4a/tufs3fFf4jXPwn8M%2BL9Ws9ft9LudThsvE/gzVtEW/sbeRI57uyl1G1gjv4I3liDy2zSIvmISQGUnyj9hT9hL4sfsw6/8ADjWfHniDw1dnwd%2Byl4R%2BGN%2B%2BkXM8rNq2lvM1zNF5kEe61bemxmKu235o0wK8a%2BGn/BKv9sbxP8UfC/ib9qb4w2eqRaf4A8V%2BF/GniaD4v%2BJNavPEUur2KW39p2umX0Men6EcqWNpaKUXKgTOI1WgD6l8J/8ABRf9kfxrosfirQfHeuf2Hcarpen6f4lvfh/rdrpWoy6lex2VlJaX09mlteQS3M0UYuIJHhBlQs4VgT6X4W%2BLvw88a/EDxT8LvC/iH7XrnguSzj8T2iWkwWxkuoPtEEZlZBG7tCVkKIzMiyRlgokTd8w%2BOPAnxF8K/wDBPbxp8CP%2BChnif4VeCPAWg/DSLQLb4meHfFt2GadI0trXUntLqzgTTZlmFvJDBHcXTGcoiOTtDdr/AMEr/h98WPDf7ImlfFX9oqwS3%2BJ3xYvpfHXxEhW3aL7Pf36xmG02N8yfZbGOys9pyQLXBoA%2BjaKKKACiiigAooooAKKKKACiiigAooooAKKKKACiiigAooooAKKKKACiiigAooooAKKKKACiiigAooooAKKKKACiiigAooooAKKKKACvF/j14/8A2i/%2BGi/AvwI%2BAvjPwV4fTX/BXiXXtX1Pxf4Lu9aJOnXeh28MMMdvqVj5Yb%2B1JWZmZ8%2BWgAXkn2ivCviLrSWX/BSr4Q6LIoxe/BP4hsjZ53R6t4NOPyZj%2BFJtLcuEJVHaPZv7tWX/APhB/wDgoX/0dB8Gf/DD6t/81FH/AAg//BQv/o6D4M/%2BGH1b/wCaivZqKZB4z/wg/wDwUL/6Og%2BDP/hh9W/%2Baij/AIQf/goX/wBHQfBn/wAMPq3/AM1FezUUAeM/8IP/AMFC/wDo6D4M/wDhh9W/%2Baij/hB/%2BChf/R0HwZ/8MPq3/wA1FezUUAeM/wDCD/8ABQv/AKOg%2BDP/AIYfVv8A5qKP%2BEH/AOChf/R0HwZ/8MPq3/zUV7NRQB4z/wAIP/wUL/6Og%2BDP/hh9W/8Amoo/4Qf/AIKF/wDR0HwZ/wDDD6t/81FezUUAeM/8IP8A8FC/%2BjoPgz/4YfVv/moo/wCEH/4KF/8AR0HwZ/8ADD6t/wDNRXs1FAHjP/CD/wDBQv8A6Og%2BDP8A4YfVv/moo/4Qf/goX/0dB8Gf/DD6t/8ANRXs1FAHjP8Awg//AAUL/wCjoPgz/wCGH1b/AOaij/hB/wDgoX/0dB8Gf/DD6t/81Fa/jP4r/s0fCi2h1L9oP4meBvDdxq%2Bp6gunzeM9as7NrxYLgowiNy67xGrRAhc7dy5xuGcD/hr/AP4Jwf8AR0XwR/8AC20f/wCO1zzxeEpS5Z1Ip9nKKf3OSf4HsYXh3iHHUFXw2CrVIPaUKNacXZ2dpRpSi7PR2k7PR66Fj/hB/wDgoX/0dB8Gf/DD6t/81FH/AAg//BQv/o6D4M/%2BGH1b/wCaiq//AA1//wAE4P8Ao6L4I/8AhbaP/wDHa9D8DS/A/wCKHha18c/DSTwp4i0S%2B3/YtY0Jra7tbjY7Rvsli3I%2B10ZDgnDKQeQadLE4atLlp1IyflKL/JszxuR55llJVcZhKtKLdk50qsE3va86cFeyel76PTQ4T/hB/wDgoX/0dB8Gf/DD6t/81FH/AAg//BQv/o6D4M/%2BGH1b/wCaiuKH7fP7HujeJfiR4f8AiJ4F1nw7H8OPiDaeELrUbr4Y6pNbanf3UWnm3S1lhsmSaSWbUIoUhjLyOAsqqYpY3bvdI%2BPf7MWr/EPQ/hbL4U1XS9Y8SW8Umhp4i%2BFmraXbXkj2RvhardXllFB9rFsskj2hkE8fkzK8atFIq7nllf8A4Qf/AIKF/wDR0HwZ/wDDD6t/81FH/CD/APBQv/o6D4M/%2BGH1b/5qK47wr%2B31%2Bw1qumeE11/U9Mh1LxR4S8O%2BICNH8F6re6dZWetyPDp0818dOiS1gmniljSW7W2OVG9IywWvYtc1v4FaB4M8RePriDw9caZ4Uhu5PEE9jbwTmyNrGZJ43CA7ZEUZKHDDI45oA47/AIQf/goX/wBHQfBn/wAMPq3/AM1FH/CD/wDBQv8A6Og%2BDP8A4YfVv/morA/ZW%2BPTfHPxRdeBfiz%2BzHofgfWpPBWj%2BL9Es7TV49VW50jUWuUjWZ/skHkXkL2zLPAoljXzYjHPKC22LxB8dPEPw6%2BO0Xwm%2BKv7Lvg%2By07XtJ8Q6j4L1TQ/FIvru7g0oROz31o%2BnwiySWOaMq8c1yEd0jfazrkA6T/hB/8AgoX/ANHQfBn/AMMPq3/zUUf8IP8A8FC/%2BjoPgz/4YfVv/morwvwv/wAFGPDmu/sEzftxzfCH4Hz2z3/he1t9N0H4xJfWOmvq9/YWjrq9/wD2RGNNe1%2B3rJKoimwsT528Gt34u/tvaH8KfCPwl1a5%2BH/7P8l18Up9TSHW7/40ra%2BF7dbZd8X2fVzo7m8eZWQBBbx4fcoLhQzAHq//AAg//BQv/o6D4M/%2BGH1b/wCaij/hB/8AgoX/ANHQfBn/AMMPq3/zUVi/HD4ueKvgV4m8N6l4g/Zj8FXngjXPFHh/w7ca3ZeLM6ql/q17DYxm3086dsubeKa4jaRzcxSeSk0giPl7Wfp/xg1jw/8AtM6f8BPjJ%2Bzf4M0PTvEula5qfhLXtG8ULqM72mmTWySS6hayWFuLJXS7hZWjmuVVjsdlZl3AGv8A8IP/AMFC/wDo6D4M/wDhh9W/%2Baij/hB/%2BChf/R0HwZ/8MPq3/wA1FeQ%2BDv8AgoB4W%2BI/hfxbrHgX9lPTZb22%2BKGkeD/htZanqsdtH4pj1KytL211SaQWjtp9s1rcPc7QlxIIIg2zzX8hU1L9uu7u/DsVj8P/ANjbQdY8Z6NpfizUfH/hefxRHbQ6TD4ev0sbtLS6%2BwP9umuJZFa0V4rZJY8tM9sRsoA9f/4Qf/goX/0dB8Gf/DD6t/8ANRR/wg//AAUL/wCjoPgz/wCGH1b/AOaisXwz8etM8UftPeDvhBYfAHw0/gr4gfDHUfGHhLxxHqytd3C2cmkLJBLp5swIkZdXiZZftDMTEwMYyDXEeJf2/wD4S%2BH/AIg/F7Qrf9nWC/8ADvwu8FjV9O8RWssG/wAUX63lxYz2FrA0QVFS9gNoJ3lw06zKUVIxJIAeo/8ACD/8FC/%2BjoPgz/4YfVv/AJqKP%2BEH/wCChf8A0dB8Gf8Aww%2Brf/NRXHaL8c/ibrXhrxtpU37LPwt0rxv8N9Zgi8Y6TrfxEnh0aLS5tOW%2Bj1C31KPRJJZRtfy2jktIdrwz/MVRGl4bTv8AgoNoup%2BFPhLb337P/wALvC3jP4meB7PxVd%2BHfiF8TItGs9LtbyQJZWkV0%2BmvLe30/wC8KW620ePs8wd0IQSAHtX/AAg//BQv/o6D4M/%2BGH1b/wCaij/hB/8AgoX/ANHQfBn/AMMPq3/zUVl%2BMPiv4h%2BHH7RfhD4V%2BO/2Z/B8PhXx/wCJ7nQfCviLTPEwudUe5h0q71Iy3OmtYIkNuY7KdPMjupXVmiLRhXYpyfw6/aqufHXxD%2BJPwaX4IfB%2BbxP8PdBj1G7n8P8AxP8A7Q0axlM8sT2Or3v9kRvpN0qwtKYvInPlhm428gHoH/CD/wDBQv8A6Og%2BDP8A4YfVv/moqh4H8cftWeDv2rPDnwR%2BN3xH%2BHvibRvE3w98Q65DN4V%2BHl9ot1aXWm32iW6Kz3Gr3ySxumqSkqERg0SENjINT9l748%2BD/wBqX4D%2BI/irongHwxp8uh6xqOmW2s%2BDdbTV9I1KS2jRxeaZqS29ubu33P5ZkESbZoJ48Hy9zbXjj/lIX8L/APsjPjz/ANO3hCgD2aiiigAooooAKKKKACvnH4TeKv27/jro%2BveO/C/xv%2BEmgaXb/ELxVoel6Vf/AAf1S/uIrXS9ev8ATIWluE8RQLLI8dmrsyxRrucgKABX0dXjP7B//JENc/7LN8R//U11ugA/4Qf/AIKF/wDR0HwZ/wDDD6t/81FH/CD/APBQv/o6D4M/%2BGH1b/5qK9mooA8Z/wCEH/4KF/8AR0HwZ/8ADD6t/wDNRR/wg/8AwUL/AOjoPgz/AOGH1b/5qK9mooA8Z/4Qf/goX/0dB8Gf/DD6t/8ANRR/wg//AAUL/wCjoPgz/wCGH1b/AOaivZqKAPGf%2BEH/AOChf/R0HwZ/8MPq3/zUUf8ACD/8FC/%2BjoPgz/4YfVv/AJqK9mooA8Z/4Qf/AIKF/wDR0HwZ/wDDD6t/81FH/CD/APBQv/o6D4M/%2BGH1b/5qK9mooA8Z/wCEH/4KF/8AR0HwZ/8ADD6t/wDNRR/wg/8AwUL/AOjoPgz/AOGH1b/5qK9mooA8Z/4Qf/goX/0dB8Gf/DD6t/8ANRR/wg//AAUL/wCjoPgz/wCGH1b/AOaivZqKAPGf%2BEH/AOChf/R0HwZ/8MPq3/zUUf8ACD/8FC/%2BjoPgz/4YfVv/AJqK9mooA8Z/4Qf/AIKF/wDR0HwZ/wDDD6t/81FH/CD/APBQv/o6D4M/%2BGH1b/5qK9mooA8Z/wCEH/4KF/8AR0HwZ/8ADD6t/wDNRR/wg/8AwUL/AOjoPgz/AOGH1b/5qK9mooA8Z/4Qf/goX/0dB8Gf/DD6t/8ANRR/wg//AAUL/wCjoPgz/wCGH1b/AOaivZqKAPGf%2BEH/AOChf/R0HwZ/8MPq3/zUUf8ACD/8FC/%2BjoPgz/4YfVv/AJqK9d1bWtG0G0N/rmrW1lAv3prudY0H4sQK8%2B8R/tm/sf8Ag%2BVrfxX%2B1X8N9NlXrFfeOLCJ/wDvlpgayqV6FH%2BJNR9Wl%2BbRjVxOGw6/ezjH1kl%2BbRh/8IP/AMFC/wDo6D4M/wDhh9W/%2Baij/hB/%2BChf/R0HwZ/8MPq3/wA1FZeuf8FRf%2BCePh5C9/8AtheBZAvX7DrSXR/KHdmuTl/4LW/8EwYr46e/7VViZB/EvhzVGT/vsWu39a455vlNN2liIL/t%2BP8AmefUz7I6TtPFU1/3Eh/8kegf8IP/AMFC/wDo6D4M/wDhh9W/%2Baij/hB/%2BChf/R0HwZ/8MPq3/wA1Fc3pH/BWz/gm/rePsf7XPhVM9Ptck1v/AOjY1xW8n/BSP9gF7cXS/tlfDfaex8XWob/vkvn9KuOaZZNXjXg/%2B34//JGkM6yeavHE03/3Eh/8kTf8IP8A8FC/%2BjoPgz/4YfVv/moo/wCEH/4KF/8AR0HwZ/8ADD6t/wDNRWJrX/BVX/gnVoMRmvv2vvBkgHay1E3J/KFWNcjff8Fu/wDgmdb3DWWnftDT6nOv/LHS/BurzE/Qi12n86znnOUU/ixEF/2/H/NmVTP8ipP38VTX/b8f0kz0n/hB/wDgoX/0dB8Gf/DD6t/81FH/AAg//BQv/o6D4M/%2BGH1b/wCaivMf%2BH0v7F8vz2Vp8RLmM/dmg%2BHGolW%2BmYxTJ/8Agtf%2BxHYoZtXbx9YxjrLd/DvUVUfj5ZqP7dyb/oIh9/8AwDNcSZA3ZYmH3/8AAPUf%2BEH/AOChf/R0HwZ/8MPq3/zUUf8ACD/8FC/%2BjoPgz/4YfVv/AJqK8T13/gvz/wAE3dFi3Q/EHxHeyDrBbeELtHB9P3yoM/jXMp/wccf8E/WnaI6F8RVUHAlPhu32t7jF1n8xWMuJOH4OzxUP/Av8kz0aGMo4uHPh1Kou8KdWa%2B%2BFGa/E%2Bkv%2BEH/4KF/9HQfBn/ww%2Brf/ADUUf8IP/wAFC/8Ao6D4M/8Ahh9W/wDmor5m1r/g4w/YxYC0%2BH3ws%2BJ3iW9dcpb2WgW0ag%2BjFrncPwU1jxf8F4/iprchPgv/AIJefFDVI2P7p0lnBcdjiOyfH4E1lLinIE7RrqX%2BFSl/6TFnbSw%2BY4iPNRwmImu8cPiGvvdGC%2B5s%2Bsf%2BEH/4KF/9HQfBn/ww%2Brf/ADUVb/ZW%2BI3xp8Yax8UPAnx01/wvq2qeAfiFFodnqvhPw1c6Tb3VrLoOj6mrPb3F7eMsiyajKhYS7SsaHapzn5Il/wCCvv8AwUI8TLs8Bf8ABGv4hxZ%2B5carJqBQ/np0Y/8AHq9m/wCCVfxJ%2BMfxe0z43fEX4/8AwobwP4t1H4zIdV8LPvzZBPCnh2OHO/5vnhSOTn/npXZgs4wWYVnToczaV7uE4r75Rir67DlhswpR5q%2BGq049503BX7e9K9/%2B3fn3%2BrKKKK9QzCiiigAooooAKKKKACiiigAooooAKKKKACiiigAooooAKKKKAOe%2BK/j2%2B%2BGHw81Px5pvw817xXPpsKyJ4e8Mi1N9eZdVKxfa54IQQGLEySooVWOeMHB8HftA6Z8R/wBmjw9%2B058Ovh34l1ux8U%2BEtO1/Q/DVnDarqlxDewRTQwlZbhLdJQsq7t04jUhiZMDdW98Vx8QW%2BHOsRfCvw7o2reIJbNo9N0/xBrkum2crsQp825htrp4gFLEFYZMkAYAO4eH/AAI%2BHX7dvwS/YG8O/APQPBvwot/iN4L%2BF1j4e8O6jN441K80efUbO2itIbif/iVQzCFkjM7Iqlg2IgSD5wAPVPgD%2B0Bofx%2B0nX5bTwXr3hnWPCfiN9C8U%2BGfE0dsL3S75ba3u1jdrSee3kD213bTK8U0ilZl5DBlHjX7Qms/2X/wVn/Znsd%2BP7R%2BGPxMt8euJPDEuP8AyF%2BleifsS/B74gfBD4Lt4P8Aip4X0ay8RT6zcX%2Bt6tpfjGfXZfEF3OEefUru5m06wK3EspceSkPlRRxxJGVRVij%2BcP2ovBfh74b/APBbX9kzxdpWqeIJJ/F2ifEqPVItV8W6jfWsTLp%2BlGMWttczyQWSlj8y2yRK%2BF3Btq45cZP2dDm84/jKK/U93hzDfW809l3p1n/4DQrS/wDbT7tooorqPCCiiigAooooAKKKKACiiigAooooAKKKKAPPvEPwD%2BBXxx0m2/4XV8FvCXjD%2By9V1P8Asz/hKfDlrqH2TzLt/M8rz428vd5ce7bjdsXOcCsf/hgf9hX/AKMs%2BEv/AIbnTP8A4xWV8c/25/2Wf2LtJ0j/AIaX%2BKP/AAjX/CS6rrH9i/8AEkvrz7T9nu/33/HrBLs2%2BfF97Gd3GcHHnP8Aw/N/4JZf9HRf%2BWTrn/yFXj4rFZBTruOJnSU%2BvNyc22l7q%2B34GkePa%2BSr6nHNpUFD7CxNSmo31%2BCNaCV730ir3vre563/AMMD/sK/9GWfCX/w3Omf/GK9D8DeAfAnwv8AC1r4G%2BGngrSfDuiWO/7Fo%2BhabFaWtvvdpH2RRKqJud2c4AyzEnkmvmH/AIfm/wDBLL/o6L/yydc/%2BQq%2Bh/gZ8c/hZ%2B0p8LNL%2BNfwU8U/214Z1rz/AOzNT%2Bwz23neTPJBJ%2B7nRJFxLFIvzKM7cjIIJ0wWJyWtVccHKm5W%2BxyXt/26k7beQpcZ1uIl9WnmUsSl73K686qVtObllVmla9r2vra%2BuvkHib9hfxXr/wAS/FPiCD4z6bB4Z8S/GDw38RToknhCSS9ttS0uPSYngF59tEbwTR6THgfZw8TzM2%2BRVCVzfiH/AIJjy%2BIf229O/a%2Bu/il4dkbS/iKniu1F38O0n8QKo0V9LOkDWWu8x6cPMa4S3jt02yE7mfJNeqH9s74YDx0PhkNA18%2BID8UX8CnSRaweaL5dIOsm6P77AtDp%2BLgSZ3YdV2bzsryCP/grB8O/if4S1j/hRWmWyeJvDHxI%2BHuh%2BItI1nWtJ1WOLT/Efiq00Zp1l0TUrqFZhG19tjeVZIpYY2lhKOok9Qgk8Ff8Esh4P%2BBOpfBUfHT7QdQ%2BDngTwH/an/CMbPL/AOEbmvZftvl/aTn7R9sx5W4eV5ed8m7A%2Bl9d8ES%2BO/BniLwD8Srqz1HTNfgu7F4LGye2K6fPGYzC5aWTfJtZgZF2A5GEXHPy78Yv%2BCpkXgT9nrxv42%2BG3wt8R%2BNPFfhjwz411qdNO8O28NlolrouqajpsN1qEUmpCSSB7iwkUC1kkuJ0gmlWCDmOP6l8A%2BNIfGWkJM9rdRXcNratfGTTLiCBpJbeOb9xJKoSdAJAC0bOFYMjEOrAAHj37Ov7Inxb%2BCusXPjbxj%2B0BpXizxJH4U0DwloupSeCHs4bbQtNuJpWE0K3zma/uFuJRJcq8UQdIGW2CxvHKz4a/sq/tDeDf2kfH/7QHi39oTwb4kbxetxaaKl58MrpL/w9pS7jYaXDc/2w0Jt4nPnTbbaN7qVndmT92sXPfsi/tjfGz4y%2BPvAh%2BJ%2Bm%2BFl8N/GX4aar45%2BH0Gg6bcwXmi2NneabGtpfyy3MqXkstvq9pL5sUduqPDMhRgUY9V8S/jN%2B0F8Lv2rPAHw9ufEHgjWvDPxE8RXdhY%2BErDw5eRa9pthbaZNcz6tJem9eGWGO4jghdPskSj7dAomMhRJACHwd%2By5%2B0P4X8W%2BOfjddfHzwNcfEfxlpOgaTHqEHwruYdCs7HSp72aLfp39rtPPcOdQuQZjeqFCwBUAjYSUdG/Y5%2BOfgf4J6h8LPh38e/BMF94r1rxBqnjzUde%2BFMl9Z3c2rTtLMlhZJqkK2UaF3ASZ7sSE7pN7Fi/K/sw/t6%2BL9R8FeLfGf7XnjPSNF1Xw9o82qy/D62%2BEOueH9VtbVbyWCJ4H1K7lGtLKRBEj2cSq00yICWkRK5KX/AIKE/tZWPwQsPEXjjwV4Y8OeKb7466p4M1RdG8E6t4r/ALCsoLC6vIlXStOulvdYuQ0MdtK9qyIoaS6MaQxsoAPR9J/YR%2BLnhL4x/DHxR4W/aH8P33gf4T%2BENN0Hwl4O8Y%2BAbnUbmzMMAtrvU0vYdVt4zqNxbDyFuJLaQQI0gRMTTiWx4a/YX%2BImtfFP4reJ/wBo74yeF/Hvhz4r6ffaJqWmxeB7/S9WsPD0qSR22i2%2Boxawyw28UcsjO0VvHJNNLJMWRioTF8Dftf8A7SXjLS/2WviVLD4CtvDvxn1D%2ByvGekW%2Bn3N1eRXbeH9X1RZrO6S8EVugfTY0aGWKdx5roXVk3HDj/wCCiPxZ0z9ta7%2BC/inSNFt/CVr401jRLm1Hg/UUlhs7HQJdUW/i15rg6dfXUjxqh0iKIXcUcryudltKxANnS/8AglZ4a8Baj418VfCP43%2BJ7HXdc8e6B4r8J3vi/XdY8Sw6HdaXZW9qsU0eoam73scyR3CSMskEvk3KxLIogiZTU/8Agm38QrTw7FffD/8AaatdH8Z6zpfizTvH/iifwObmHVofEN%2Bl9dvaWv21PsM1vLGq2jPLcpHHlZkuSd9Z37MP/BSpviR8FdV%2BO/xM8YaDfTXnhbSNc8M/Dbw94C1XS9UX%2B05DHY2cN7qM5h13z53htI7y0ihtzMG52sNvJ6r/AMFF/wBq3Q/2dvBPizxfonhLSvFer%2BPfiD4e8UX/AIa%2BHWueLLW1fw7rGp2EKW2kafdJfzLMliGku9/lQlSXRBMiqAe4Xf7I/wAWtH/aa%2BGnxa%2BGnxl8JaR4J%2BGnga98J2Hgu%2B%2BH91d31xp94%2Bltcf8AExXVYkSQDSbZYmNqwQPJvWUldvAy/wDBHD4AaRq3igfDz4geONE0bXvhQngzStGuvHet6vHojpcy3EV7Auo388R8p3iaO3MXlo0RYf61wcm0/wCChf7QniDRbD4v6V4Z8C2fhLw5pPw/k%2BIWjI8up3V7deIzbNc/2bqNvcrbrBZw3lvKjmG4F2Q6hoBtkOLb/wDBVL4qaT438TeHL3w/4V8T68ujePZ9C%2BEXhnTLuLxJo194fMz2VpqMrXEqyHUreBpIitvb8snlC6jJlAB65qv7Cvjrx58GPiv4F%2BK/x7sr/wAT/Ge7s4PGniPQfCMmn2iaNFBbWc2m2lo97NJCJbKK5TznuJGWa9klAKqkIk/a4/YE/wCGjdd1LXfA/wAQNF8KSeKPhfe/Dvxg2oeC11V5/D9zJ5myyP2mBbO5jLTbJHWeLMil4H8tMeM23/BUv4hzeCPG2j%2BEfiJ8N/iDrfhi%2B8EuPHPgHwfqV3pUNl4gvbq0ZU0mK%2Bmu9Tu7WSxuAbe2uBLKZI1CRyRyR1S8R/8ABU/45aR8F/Dnj/VtZ%2BG3haS40XxrfS634s8OalDbeJbvRNV%2Bx2mi2tk14lxpWpXkIaZrS4e4urZlaL7NO8cojAPoHwr%2Byj8cdD/bFvf2lfEHx78L69of9mpo/hvw3qnw%2Bu21Dw7pIhTzbazvxq3lLJcXMaTz3D2jSTCOKM4SKLYvh/8AZl/act/iNq3x38V/tJ%2BDLzx03g6Pw54du9M%2BFtzZ6Vb2wvVupJb20bV5Zr6UlNiFbmBYhJKUXMjE%2BQ6x/wAFTdbsfjfotnc6l4R0fwzrXi3wVouheBdX0u5PifxDZeI7fTvL121nW5WGOzt7vUxayKbaUF7C4UzRvJEleq/C79o341z/ALceq/ss%2BP8AUdE1jS08I6jrsGoWXw51Xw6%2BntDeWMUFtHPf3c8OvK8V45lubIJHbPbIsqq11EgAOl%2BD/wABfEXwP%2BHfxH1Txv8AEC08R%2BIvHevXviTxBeaVoR0vT4rltOtrJYrS0ae4aCPyrKFmDTSM8zzSs2ZCBF44/wCUhfwv/wCyM%2BPP/Tt4Qr1Lxz/yJOsf9gq4/wDRbV5b44/5SF/C/wD7Iz48/wDTt4QoA9mooooAKKKKACiiigArxn9g/wD5Ihrn/ZZviP8A%2BprrdezV4z%2Bwf/yRDXP%2ByzfEf/1NdboA9mooooAKKKKACiiigAooooAKKKy/GXjnwT8OtAm8V/EHxhpehaXbj/SNS1nUI7W3i/3pJGVV/E0pSjGLcnZImUowi5Sdkur0NSivlnxj/wAFhv2M9O1yTwd8H9T8UfFjxBHx/Yfws8LXGqyHsCJQEhYE91kNZo/a3/4KYfFk7fgb/wAE4ofC1k/%2Bp1v4seNYbU/R7G3BnX/vo15cs6y7m5acnUfaEZT/ABinH/yY8eXEOVczjRm6rXSnGVT8YpxXzmfXFI7Kil3YBQMkk8AV8kv8M/8AgtF8Q1MXin9pj4LfD2OXgyeCfB93qssKnuP7QIVmA/DNMi/4JD/D34kSLqH7Y/7SXxR%2BMU7HdLpuveKZbDSVb1is7Mp5XPYSEUvr%2BNq6UMNL1m4wX5zl%2BBP9p5jX0w%2BDn61HGmvuvUl90T3Lx/8Atjfsl/CuVrf4jftMeA9FnU4NrqHiy0jmz7RmTefwFeaa5/wV/wD%2BCa3h6Xyb/wDa08PSHOM2NvdXQ/OGFhXS/D//AIJsfsDfDGNV8JfsjeBA6DCT6loEV/Mv0kuhI4Pvmur12L9k/wCA1g1z4mi%2BHngy1RMtJfLYadGF9cvsGKUpZ0o805UoL/t%2BX4twX5G%2BHwvFmOqqnRVLme0YwrVZfJKzfyieN3n/AAWt/wCCYtnbNcf8NSWku0cRW/hvVJHc9gqra5JrPX/gr38N/Ex3/Bj9kT4/%2BPrY8jUfDXwxlNqR6755Izz/ALtXPFn/AAVg/wCCaXgTXF0fw58UbDxLrKkmCy8C%2BGrjU5XI7pJbwmP/AMf71VP/AAVE8ceMv3fwM/4Jw/HnxFu/1N7rXhePRrOX0KzzyNx7lRXmSzOblyvG07/9O6bm/wD0qaPtqPhN4v4ikqlag6EHqpVKUKCa73xeIpaeaiw/4ec/Fa4%2Baw/4Jd/tDMvrceFoIj%2BRmNR3X/BRb9qTxFH/AGL8MP8AglZ8XJtauDss18Vy2mlWCn%2B9LcuzBAOvI56ZFSD48f8ABX7x/wDP4M/YU%2BHngWNv9W/jv4kjUDjsWXT1BH06ihvhj/wWf8djyfE/7TvwW8BpJ96bwV4Mu9UkhH%2ByNQYKx%2BvFL6zmFT%2BHUrS9KEI/jNq33Gn/ABC3OqOmP4jwdHuva0akl6LD0q%2BvpJ/Mgtfgd/wVv%2BOEh8Q/FD9sbwj8H4GGbfwt8OfBsWruqnp591fEHzAOD5eUJORin3X/AATl/aD1%2BBk%2BLH/BVb4yXOn4zdL4cks9Ecr3/exIxQU8f8EzPjF44P2j49/8FOPjjrcrf62Hwhq0Hhy1k9Q0Nujjb7ZqSD/gir%2BwnqUy3XxL8P8AjDxvMh3eb4t8f6lOS3qRHNGD%2BWKPqGLq74eT86mIlr6xhovRB/qB4XYf/fs9rYiXX2VDEyT9HWxGGg16U4ryOGvv2Bf%2BCMfgnVPt3x4%2BKeg%2BJtaT/Wal8SvjI8tyfXcrXUaHnrlK1YP%2BHA3wys8xH9nCdY%2BhJ0vVZPwJ81jXr/hj/gmF/wAE9vCVuLbSv2PfAcqr0Op6DHet/wB9XAcn8667Q/2Nf2QfDEy3Hhr9lT4bafIn3ZLHwNp8TD6FYQa1p5TiaesMPh4/9uzk/va1NqWQ%2BB2DfuYfGVH39ngIX/8AAvbTXzcmfMi/8FBf%2BCInge9Gn%2BBLDwVe36/6qz8I/CaaWRv91orIJ/49XQw/8FS/g5f2P9n/AA4/YJ/aA8TWB/1beH/g4TbN7/vJEwPwr630bw/oHhy1Fj4e0OzsIB0hsrZIk/JQBVyuyGBzNKyrQh/hpL/26X6HoQzDwuwSthskqz/6%2BYzl/DD4WH3XZ8Q6v%2B1feePCU0D/AIIn/EbVpH6DxZ4P0zT1b6tMXxXPv4W/aZ8ZXBuPCn/BBz4OeHmf7mo%2BLvEuhTE%2B7R21t5i/TNff1FTLJqlV/va7fpTpL/2yT/EzlxFwXB3ocNYRvvVqYmt%2BdSkn80fCujfssf8ABSfW5hJpnwv/AGS/hlAfuz%2BH/BFxf30f18yNYTj2rsNP/YL/AG6tXtxF48/4KpeI7eNutl4K%2BHWmaPFEP7qNGWJ/3iM19dUVcMiwcfilOX/b8l%2BEORGtPxBzDBq2XYHBYZf9OsFh7/8AgVWNeX4o%2BSz/AMEn7bXvn%2BJX7f8A%2B0h4h3f6y1l%2BJZt7Vv8AtlFCMfnVjSv%2BCLP/AAT7jvk1fxp8Mda8X3sf3LrxZ4z1K7I9cr56ofxU19WUVosjyi95UYy/xXl/6VKRcvFPxF5XGlmdWkn0pclH/wBMUqL/ABPHPD//AATx/YO8MQJBpP7HPw0/dj5JLrwXZXEg/wCByxsx%2Bua6/Qf2bv2dvCzBvDHwE8F6cV%2B6bDwtaQ4/74jFdpRXZDBYKl8FKK9IxX5RPm8VxNxLjr/WcdXnf%2BatWl%2BdVr8CGx0%2Bw0y3FrptjDbxL0jgiCKPwHFTUUV02SPFbcndu7CvGf2X/wDkt/7R3/ZZrH/1CvC9ezV4z%2By//wAlv/aO/wCyzWP/AKhXhegR7NRRRQAUUUUAFFFFABRRRQAUUUUAFFFFABRRRQAUUUUAFFFFABRRRQAUUUUAFfBv/BSnVP7D/wCCrX7EGqbsbtS8ZWuf%2Bu40SLH/AI9X3lX52f8ABYm%2Bk0b/AIKG/sR64nCW3j3Ulnb%2B7HJqfhyNj/49XmZxLky6cu3K/wDyemfb%2BHFBYrjPDUP51Xj9%2BFxf%2BR%2BidFFFemfEBRRRQAUUUUAFFFFABRRRQAUUUUAFFFFAGV4P/wCQTN/2Fb7/ANK5a1azJvCWjTXElypvIWlcvItrqU8Ksx6ttRwMnucc0n/CH6T/AM/eq/8Ag8u//jtAGpRWX/wh%2Bk/8/eq/%2BDy7/wDjtH/CH6T/AM/eq/8Ag8u//jtAHl/iX9hn4K%2BLf2ndT/ap1241uXWNX8BTeFb3RE1BU0xopTtkvxGqCRb4wAW3niTiFQgUck8R4H/4Ja/CbwjGw1n43fEfxJKtv4EtLKXW73TF%2BxWfhLW/7Z0m1iS0sIY1j%2B0EpMSpkkjJ%2BdZP3lfQ/wDwh%2Bk/8/eq/wDg8u//AI7R/wAIfpP/AD96r/4PLv8A%2BO0AfO3j3/glb8HPGXgnWvAujfGb4j%2BF7bxRpHiXR/Ftz4c1PT0n1rTNb1S91O4s5mnspQiRXGoXXkSQiKZElZTI%2B5i30N4T8KzeE4ZbFPE%2BoX1psgjsbS9S32WMcUCRbIzFEjsGKGRjIzne7bSqbUV//CH6T/z96r/4PLv/AOO0f8IfpP8Az96r/wCDy7/%2BO0AeQfCb9gzwN8F9dudf8FfF3xuJbTw1qHh/wHFeT6dNF4G029uY7qe20xTZYZDLb2hH2z7UVWzgjB2JtN3RP2OV0D9q7Xf2tLH9o74gPqPiGG1tb7wxdQ6JPpkdhbxFY7CB5NMN5b23mM9wyRXKl5pGdicgD1L/AIQ/Sf8An71X/wAHl3/8do/4Q/Sf%2BfvVf/B5d/8Ax2gDyWx/YS%2BGfiHxNqPin9o3xlrfxne%2B8PPoUOn/ABR0vRrmws9Oe7gu5bdLS00%2B2hl3z2tpI0k6SyZtYsONvPM%2BGf8Aglb%2BzN8LbHP7Ojaj8LNVh8f3vi3Ttd%2BH%2Bl6RaTWNzdWklnLapDLYS2slr5ErosU0MhTIZWDKrD6A/wCEP0n/AJ%2B9V/8AB5d//HaP%2BEP0n/n71X/weXf/AMdoA8N1z/gnd4an0T4U%2BG/AX7SPxJ8IWPwh1STVdBg0Q6JcHUNSltry2mvb19Q0y5eSWWLUL0MI2jjzcFgisqMupp37BHwysPi9H8S7j4heLrzR7bxnqHi6w%2BHl5c2T6Ha65e2txbXV6oFqLty63d03kyXLwLJcO6xBghX17/hD9J/5%2B9V/8Hl3/wDHaP8AhD9J/wCfvVf/AAeXf/x2gDw/wF/wTO/Zs8OWB8PfE%2B0vPilodp4YsvDXh3w58T9P03U9P0LRrSbzbext4Vs4xKqOsR8658%2B4PkRZlJXJzfB3/BLH9nz4P%2BHtM0n9mnxL4h%2BFN9pHiTxTq9nrngCy0e2n26/ei7vrJoptPltXt18qyhhzD5sMOnWiLL%2B7Jb6C/wCEP0n/AJ%2B9V/8AB5d//HaP%2BEP0n/n71X/weXf/AMdoA8Ls/wDgmd8BdDuvDOn%2BD/FPi3RfDHh7SfDGn3vgiw1G3fTdfTw9IsukPfGa3kuWkhdIyzQzxeeIkScTIoWu0s/2WoX%2BL178afFfxx8beINVSw1Kz8JW%2BqnTFtvCUV86NP8AYEt7GIu4EUKLLdm5kVI9obEkok9A/wCEP0n/AJ%2B9V/8AB5d//HaP%2BEP0n/n71X/weXf/AMdoA8Xvf%2BCfvg3W9I1C/wDFXx0%2BIGreOL7xDpesxfFC7m0pNZsp9NEi2UcMcNglgsESz3S%2BSbRkf7ZcM4dpC1PvP2CtBm%2BEB%2BCWnftF/ErTtH1W91i68eTWF3pS3XjGTVJzNem9mbTy1vuLSKp0/wCxmNJSsZQLHs9l/wCEP0n/AJ%2B9V/8AB5d//HaP%2BEP0n/n71X/weXf/AMdoA4DxX%2BypoHjXx/4f8ReIPid4ok8LeF72xv8ARfhjAmnQ6DBe2QH2S5IjsxeOYnVJUia5MKyxRv5eUXDfAv7LEHhn40QfHbxx8cvG/jnWdM0i/wBL8NQeKW0yO20O0vZreW5jgSwsbYys5tLZfMuGmkCw4DjfIX9B/wCEP0n/AJ%2B9V/8AB5d//HaP%2BEP0n/n71X/weXf/AMdoATxz/wAiTrH/AGC7j/0W1eXeOP8AlIX8L/8AsjPjz/07eEK9RPgzQ3ws7X0yZBMVxq1zIjezK0hVh7EEV5d44/5SF/C//sjPjz/07eEKAPZqKKKACvn7/gpcdMH7Ndr/AMJp5f8AwhX/AAsLwv8A8LI%2B0f8AHv8A8I9/bNp9t%2B1Z4%2Bx%2BX/x87v3f2bz/ADP3e%2BvoGigD4L8EWnwv8ffsBfFr4X/D/wCMvgrwt4Ej8d6lq3gJtW1qO10Q%2BEYdYikeJ2Rv3Oh3U8GoWYmjBhFrMfKDRhFPmGh/Ff8AZV%2BG/wCyr448QftM/B74Hax4Q8R/HWWw/Zu8EnUrWTwU0kmg6ckz2N5fQQwJp8d9Hq00t8II1BF00COZIUk/UOigDyf9nTRfE/w%2B/Yr8CeGPhd4%2B0T4parongDS7LS/E9/4keGw8SSQ2sUf2s3sUd24jl2lxIEnYgjJYktWH/wAE6bjxLd/s3X114y0mxsNXk%2BLfxDbU7HTNRe7trec%2BM9a8yOKd4YWmQNkB2ijLAAlFzge6V4z%2Bwf8A8kQ1z/ss3xH/APU11ugD2aiiigAooooAKK8Q/ac/4KFfsyfsrX8fhHxn4tn1vxjdkJpfgDwjanUdavZGGVRbeM/u93YylAccEnivIB8Nv%2BCh/wC34wufjV4ku/2fPhfcnK%2BDfC16JPFWrwHtd3mNtkrDrGg3csjoeGrzK%2BaUYVXRoJ1Ki%2BzHp/il8Mfm79os8fE5zQp1nh8NF1qq3jC3u/45P3YfNuXaDPqD4n/H/wCBfwTszf8Axh%2BMfhfwvEE3A6/rtvaFh/siRwWPoACT2r5z1L/gqxb/ABc1Obwp%2BwD%2BzT4w%2BM19HKYpPEMNudI8PW7g4Ie/ulAJBydoTDAfK3euu%2BGP/BJj/gnr8K7oappn7M%2BiazqBbfNqPi5pdYllk/vn7Y8ihu/yqK9a%2BJ3xc%2BBv7MPw7/4Sr4o%2BNNC8HeG9PjEUD3kqW8K4HyxQxjl2wOI0BY44FY1P7VqQcq1SFGC3cfedv8U%2BWC9eVl4XL%2BKs5xMMNStCU2ko0oyq1ZN7KN42u/7tOT8up87t4O/4LOfGVSviD4v/AAh%2BDthMMKvhjQrjXtThU9d5uyLcsOxQ4q/4L/4JF/s9XfiGH4gftS%2BMPFvxv8TxHcuofEfWpLizgY9VgskIhSP/AKZuJAKzj/wVD8ZfG%2BQ6f%2BwR%2Bxr45%2BJschxF4u1uEeH9AI/vpc3YDS46lNisRjHWpD4I/wCCzXxfBXxH8a/hB8IrKYYUeE/D1xruoQqf75vCIC3upxXmx/sutLmjCpin3d5R%2BTlyU/moy9T7xeC%2BIwklLiLE0cPJa8uMxClUXn9WpKtOL8pUoS8kfTvhrwl8OfhN4Y/snwf4Z0Twzotmm77NptlDZWsKjvtQKiivKvip/wAFKf2C/gwko8eftV%2BDkmgB82y0vVV1G5UjsYbTzJAfYrmvOtP/AOCQvwg8c3sWvftf/G74j/GjUEcSfZvF3iiaDTIpB3hs7VkWJc87SzD2r234W/se/sp/BIxS/Cf9nTwZoM8OCl7p/h23W5yOhM2zzGPuWNenGec1I2p04Uo/3m5P/wABgoxXpzHsxwHhdlMVCrisTjJLpQpU8NS9FOu6lW3mqMfKJ4av/BTP4t/GRhB%2BxZ%2BwF8RvHEEn%2Bp8S%2BLBF4a0iRf8AnpFPdZaZQOdu1WPSnnQP%2BC0Pxb41Px/8GPhFYS/dOi6Xda9qcAP977QRbMR2xxX1vRVf2biKuuIxM35RtTX/AJKnL/yYp8a5PgPdyjJcNTttKup4up6t1pwpX9KFvJo%2BR1/4JY%2BI/iKftX7U37fPxk8eO3%2Bu0zTddXQtLkPcm0tQce2HGBXR%2BBv%2BCP8A/wAE4vAV0NRsv2YNI1S63b5bnxLe3WqGVvVlu5ZEP0249q%2BlaKqGSZTGXM6MZPvK83983IwxHid4gV6TowzGpSpv7FFxw8PTkw8KC%2B%2B/qYvgj4bfDr4Z6YNE%2BG/gHRfD9kAALTRNKhtIgB0%2BSJVH6VtUUV6UYxhHlirLy0Pia1etiarq1puUnu5Nyb9W22/m2FFFFUZBRRRQAUUUUAFFFFABRRRQAUUUUAFFFFABRRRQAUUUUAFeM/sv/wDJb/2jv%2ByzWP8A6hXhevZq8Z/Zf/5Lf%2B0d/wBlmsf/AFCvC9AHs1FFFABRRRQAUUUUAFFFFABRRRQAUUUUAFFFFABRRRQAUUUUAFFFFABRXOfF3xH8QPCPw31bxL8LPBOm%2BI9fs7cSafo2r682mW1ydy7vMukt7holVNzZEMhO3AXmvNo/2zLFP2C/Dv7bd58PZ/M8TeBtE1vTvCNtqKu732qxW32TTxcMiqd1xdRQ%2BcUUDO8qB8tAHtlfnL/wXH/0D4%2Bfs%2BeLun/CP/2pqO7%2B7t8ReEEz/wCRK%2Bzv2bvjv4o%2BML%2BMfCPxJ%2BH1j4X8X%2BAfE66L4k0nSdffVLIvLYWmoQT211JbWzzRPb3sOS8EbLIsqbSEDN8af8F84JY9E0fX7dC02jfCrxBfRAdcp4t8CA/oxrys9/5E2IfaDf3Wf6H3/hS0/EvKIP7eIpw/8Gc9P/3IfovRTLeeK5gS5gfckiBkYdwRkGn16p8A007MKKKKACiiigAooooAKKKKACiiigAooooAKKKKACiiigAooooAKKKKACiiigAooooAKKKKACiiigAooooAKKKKACiiigArxnxx/wApC/hf/wBkZ8ef%2BnbwhXs1eM%2BOP%2BUhfwv/AOyM%2BPP/AE7eEKAPZqKKKACiiigAooooAK8Z/YP/AOSIa5/2Wb4j/wDqa63Xs1eM/sH/APJENc/7LN8R/wD1NdboA9moooJAGScAdSaAKHijxR4d8E%2BG7/xh4v1u203StLs5LrUdQvZhHDbQRqWeR2PCqFBJJ9K%2BNb/47/tTf8FM76bwj%2Bx7c6n8Mfgz5rQ6t8Y9Rs2i1XxBGDteLR4Hw0SHkfaWwR22shjap471bV/%2BCtvxyuvgr4K1K4g/Zz%2BH%2BsKvjvXrOVkHjrVoWDrplvIuN1pEwVpHU4Y4K9Ynr7b0fR9J8PaTa6BoOmW9lY2NulvZWdrCI4oIkUKkaKoAVVUAADgAYrxOarnE2oScaC0utHUa3s91BbXWs3ezUVd/Oc1bP6klTm44ZO146SqtaO0t401tzR1m72koq8vLP2Yf2Gv2Zf2Q9OkT4M/Di3g1W6U/2p4p1Njd6tqLE5dprqTLnc2WKLtTJOFFerahqFhpNhNqmq30Nta20TS3FzcShI4kUZZmY8KoAJJPAArzT9rL9rv4Sfsd/DkeO/ibe3Fxd304tPDfhrSovO1HXL1sBLa1hHLsSVBP3VyMnkA/P%2Bm/sn/tT/8ABQK9g8bf8FBdal8GfD0yrcaV8CPCmpMpuUBDIdYvEw0zdCYUwAQD%2B7YMp0niaGCaweCpKU0vhjZRin1nLaKfzlLonufqPDXA2G/smOY4%2BrHBZem4qfLedWUfihh6KtKrNXSlNuNKDa9rVv7j0/HH/BQ34lftFeLL34K/8Exvh7beNb%2B1mNtrnxV1wPF4W0Ju%2B2UDdfSjqEiyOQw8xdwG78Gv%2BCYfgGw8awfHT9r7x9qPxs%2BIyfPFrHi6Jf7M0tsg7LHThmGBQQCMhiCNy7CcV9F%2BBvAngr4ZeFLLwL8O/Cmn6Ho2mwiKw0vS7RIIIEHZUQAD1PqSSea1qdPLPbTVXHS9pJapbQj/AIY9Wv5p80u3KepjOOVl2GngOF6LwVCScZVLqWKrJ6P2tdJOEZf8%2BcP7KklpJ1d2iIkaCONAqqMKqjAA9KWiivWPz0KKKKACiiigAooooAKKKKACiiigAooooAKKKKACiiigAooooAKKKKACiiigAooooAKKKKACvGf2X/8Akt/7R3/ZZrH/ANQrwvXs1eM/sv8A/Jb/ANo7/ss1j/6hXhegD2aiiigAooooAKKKKACiiigAooooAKKKKACiiigAooooAKKKKACiiigDA%2BKOiePPEvw%2B1XQPhl4p0jRNdvLUxWGq69oUup2luSQGaS2iubV5Rs3AATR4JByQCp8O8E/sP/FC0/Yd0f8AYp%2BJvx70LVLfw54K0zRdB8T%2BHfAc2m3Ftd6Y1u2m37RT6jdI7RNawO8eQsjqSDGp2D6QooA8y/Zu%2BA/in4PP4x8XfEr4g2Pijxf4%2B8TrrXiTVtJ0B9LsVeKwtNPggtrWS5uXhiS3soch55GaRpXyA4Vfjb/gsJ8CvhRoep%2BJ/F/gn4XeHtI1zxJ%2Bz142vfEus6VosFvd6s9rr3gyWN7maNA85TD4LliNxxjJr9Fq%2BNv%2BCo2jf29rWqacE3H/AIZM%2BK8qL6tHc%2BFZB%2BqiuDNIe0yyvHvCf/pMj6vgPE/U%2BOcqr/y4nDv/AMr0v8z6k%2BDGs/8ACR/B7wn4h37vt/hqwuN3rvt0bP610teXfsPaz/wkX7F3wj10vua7%2BGWgyuf9o6fAWH55r1GujCz9phac%2B8Yv74xf6nk59hvqWe4vD/yVasf/AAGrUj/7aFFFFbnlBRRRQAUUUUAFFFFABRRRQAUUUUAFFFFABRRRQAUUUUAFFFFABRRRQAUUUUAFFFFABRRRQAUUUUAFFFFABRRRQAV4z44/5SF/C/8A7Iz48/8ATt4Qr2avGfHH/KQv4X/9kZ8ef%2BnbwhQB7NRRRQAUUV5h%2B1t8ZPGXwY%2BGFhffDWz0yXxL4k8YaL4a0CTW4JJbK1uNQv4bY3U8cUkbyxwxySTeUskZlMQjDx796gHp9FfMN/8Atj/Gfwz%2ByH8RPiRrvh7w9e%2BOfhv43m8La3fWGm3SaMAt9bRf2y1t50k6WsNldx308AmZkEM0YmOBLXFfDL/goR8YPjzqEHwM%2BCHj/wCGet%2BLx8U9Q8MSfE208N3lx4ZvLC18O2mttf2tjHqIllLfb7Wz2i%2BKb1mmEjKqxsAfadeM/sH/APJENc/7LN8R/wD1NdbrR%2BAf7T/hz4h/sleHf2n/AIt6ho3g62utBW68TzahqqQ6fpdzGxiuR9omKr5KzI4V325XaSATisD/AIJ0%2BJ/DXjX9m6%2B8YeDfENjq%2Bkap8W/iHd6ZqmmXaXFtdwSeM9aaOWKVCVkRlIYMpIIIINAHulfNX/BU741%2BLPh3%2Bzevwh%2BE0u7x98XNXh8G%2BDoUch45Ls7J7nI5RYoC58z%2BBmQmvpWvjn4PY/bL/wCCnHiz49T/AOk%2BCfgBaS%2BEPBjH5orjxFcKDqdynbdFHi3PqDGwry82qTdCOGpu06r5V5LecvlC/wA2jxc8q1Hho4Sk7TrvkTW6ja85f9uw5rf3pRPpL9nf4G%2BDP2a/gj4Z%2BBfgG0SLTPDWkRWcTrEEa4kVf3k7gfxySF5GPdnNc3%2B2V%2B1p4M/Y8%2BDs3xG8QafNq2sX1ymneEPC1iSbvXdUl%2BWG1iUAnluWYA7VBOCcKe9%2BJPxF8GfCLwBrHxP%2BIeuw6Zoeg6dLe6pfTn5YoY1LMcDljxgKMliQACSBXyn%2Bxt8MvHH7ZPxmh/4KUftJ%2BH5rGxW3eD4F%2BB74ZGiaU/8AzFJl6G7uVwwPO1CCCR5eycXWlQjDBYNJTkrLtCCsnJry2ivtSstlJn6dwbw7lUcHPOM2jbL8Jyx5E%2BWVera9PDU3uuZR5qs1f2VBSn8c6SfSfsj/ALFfjuT4hD9tL9uDV7bxN8XtStsaVpsY3aZ4ItGBIsbGMkgSAMQ83JJLAMcvJJ9R0UV2YTB0cFR9nT9W3q5N7uT6t/8AASSSS8jiHiLM%2BJ8w%2Bt4xrRKMIRXLTpU4/DTpQWkIRWyWrd5Sc5ylORRRRXUeEFFFFABRRRQAUUUUAFFFFABRRRQAUUUUAFFFFABRRRQAUUUUAFFFFABRRRQAUUUUAFFFFABRRRQAV4z%2By/8A8lv/AGjv%2ByzWP/qFeF69mrxn9l//AJLf%2B0d/2Wax/wDUK8L0AezUUUUAFFFFABRRRQAUUUUAFFFFABRRRQAUUUUAFFFFABRRRQAUUUUAFFFFABXzF%2B2ho3/CR/HzT/D2zd9v/Zi%2BKVvt9d914VXH619O14b8WtKTXv26/h7ocuNt78DfiDA2fR9T8Ir/AFrOtD2lGUO6a%2B9NfqdmXYn6nmFHEfyThL/wGcJf%2B2lT/glnrP8Ab3/BO74QX2/d5fgm1t8/9cQYsf8Ajle%2B18r/APBFDVX1f/gmN8L5JsiS3t9TtZFPVTFqt5GAfwUV9UVw5PP2mUYeXenD/wBJR9R4kYb6n4iZxQ/lxWIX/lao/wBQooor0j4sKKKKACiiigAooooAKKKKACiiigAooooAKKKKACiiigAooooAKKKKACiiigAooooAKKKKACiiigAooooAKKKKACvGfHH/ACkL%2BF//AGRnx5/6dvCFezV4z44/5SF/C/8A7Iz48/8ATt4QoA9mooooAK4348fBLw1%2B0D8Opfh34m1jU9L26lY6npetaJNHHe6XqFldRXdpdwNLHJHvjnhjbbIjxuAUdHRmU9lRQB5T8Of2WB8Kfh7q3gbwX8evHEF1rkl5e6l4mlXSZdQm1a6unuJ9VJewMPnkuIxF5X2VIoo0SBQtc5cfsBeCj4aszpfxr8e6f42tfGdx4ql%2BKlrPpja7d6pPYHTppJlksXsWjaxEdsIRaCJI7eAoiPEjr7zRQBzfwd%2BFHg74FfCrw98G/h9aTQ6L4Z0iDTtNW5nMszRxIFDyyNzJI2CzueWZmY8k157%2Bwf8A8kQ1z/ss3xH/APU11uvZq8Z/YP8A%2BSIa5/2Wb4j/APqa63QBrftq/HqD9mL9lDx98dXnSO48P%2BHJ5dM8zG1r5x5Vqhz2aeSJfxrA/wCCcnwAk/Zs/Yy8DfDnVLZ01ubSF1XxRLMSZZdUu/8ASLkyMeXZXkMeTziNfSvMP%2BCl3/F8fjL8CP2GbP8Ae2/jPx0PEfjCBeQdE0hPtEkUnosshVVJ6tFivVv%2BCgP7TFx%2Byl%2By14h%2BJfh%2BE3Hia7VNI8Faeib3vNYuj5Vsip/HtYmUr3WJhXhTr0o5hXxVR%2B5Qhy/N%2B/O3nbkj6uxy8PZRjeKuNY4LBx5ql4UKa6c9VqU230UY8nM%2BkYyb0TPFP2jrm4/4KL/tdQfsS%2BG53k%2BFXwyvLfWPjTfwOfK1bUA2%2Bz0IMPvAMvmTDttI%2BV41z9oW1tb2dvHaWkCRRRIEiijUKqKBgAAcAAcYryD9hL9luw/ZH/Zx0b4aXEv2vxHdg6p431mSQyS6nrNwA91O8h5f5/kUnnZGuecmvYq6stw9WEJYiuv3tSzl/dX2YLyinr3k5PsfoXG2c4DE4ilk%2BVSvgcEpQpvb2s2/32Jkv5q843jfWFGNGn0lcooor0z4cKKKKACiiigAooooAKKKKACiiigAooooAKKKKACiiigAooooAKKKKACiiigAooooAKKKKACiiigAooooAK8Z/Zf/AOS3/tHf9lmsf/UK8L17NXjP7L//ACW/9o7/ALLNY/8AqFeF6APZqKKKACiiigAooooAKKKKACiiigAooooAKKKKACiiigAooooAKKKKAPP/ANqv41XP7Of7N/jb446foKareeGPDl1fafpksxiju7pUPkQu4BKI0pRWcAlVJODjFef/AA2/aH%2BO%2Bjaf8YvAfxjs/CXiDxn8LNLg1SyvfDVtLommazbXOnPc26Ol5dXJs3E8FxC7tO6bESX5NxjT174ufCzwb8cPhZ4i%2BDfxDsJLrQvFOi3OlatBDM0UjW88TRvsdcNG4DEq6kFWAIIIFeaeGP2G/BeneE/GnhPx/wDFrxp44X4kWN1ZfEG%2B8US6cLjXrWWwTT44JDZWVusEcNujCNbZYctNLJJ5juWoA43/AIJ0/tk/FX9qi/8AFekfExdKm/sTQvD%2Bp2d5aeAtV8LXG7UYrp5Ld9O1Wea4lhi%2Bzp5WooRbXRklWIZtpCdi/wDi58KPHP8AwU28F%2BAvBPxO8Paxrvhj4PeOIvEui6VrUFxd6S8mreEvLW5hjcvAW2PgOFJ2nHQ12n7P/wCytpHwI8T614%2B1D4t%2BMfHXiPXNF0zRrnxB40nsWuItM09rp7S0jWxtLaIKkl7dyGRkaWRpiXkcKgXM8cf8pC/hf/2Rnx5/6dvCFAHmP/BFv/QP2MJvCPT/AIR/4h%2BI9O2/3duoyvj/AMiV9aV8l/8ABJD/AIl/hP46eETx/YX7S/i2zRfRA9u4P0O819aV5ORf8ieiu0bfc5R/Q/QPFX3vEbM6n89Tn/8ABlOhU/8AcgUUUV6x%2BfhRRRQAUUUUAFFFFABRRRQAUUUUAFFFFABRRRQAUUUUAFFFFABRRRQAUUUUAFFFFABRRRQAUUUUAFFFFABRRRQAV4z44/5SF/C//sjPjz/07eEK9mrxnxx/ykL%2BF/8A2Rnx5/6dvCFAHs1FFFABRRRQAUUUUAFeM/sH/wDJENc/7LN8R/8A1Ndbr2avB/2QvElr4N/Zh8ZeL77HkaV8VPideTZPGyLxjrjn9FpSajFt7IUpKMXJ7I85/Zb/AOMh/wDgpp8bv2lpv3%2BkfDiwtPhr4UmPKieM/atTx2DrOVTI5KvjjpVfxP8A8Zp/8FRNN8GJ/pPgL9m6zTVdW7w3niy8X/Roz2Y20IMgIOUkDKR81U/%2BCbPii0/Z1/4JFx/tH%2BMMS6jdaNr/AI48R3Mxw1/dPPczBm9WeOOFB64HrXf/APBJ74R3/wAN/wBjLw/438XNJceLPiXLL408YajcD97d3uonz1ZvQiEwrt7EHpk18phIyxdPD0Zf8vL16no5XhH/AMCcF6Uz6vwzTyHgPG8UT0r170KPeNTFxlUrTXnSwi9nF9JVr6WR9J0UUV9YfKhRRRQAUUUUAFFFFABRRRQAUUUUAFFFFABRRRQAUUUUAFFFFABRRRQAUUUUAFFFFABRRRQAUUUUAFFFFABRRRQAV4z%2By/8A8lv/AGjv%2ByzWP/qFeF69mrxn9l//AJLf%2B0d/2Wax/wDUK8L0AezUUUUAFFFFABRRRQAUUUUAFFFFABRRRQAUUUUAFFFFABRRRQAUUUUAFFFFABXjPjj/AJSF/C//ALIz48/9O3hCvZq%2BfPi344sfDf8AwU7%2BBvhW%2BKhvEXwg%2BItvaE9TNFf%2BEp8D28uOU/gKmUowV3/V9CZzjBXl5fjp%2BZx3/BNj/iUfHj9qbwj08n453Go7f%2Bvu1ifP47K%2BtK%2BS/wBij/iUf8FGf2uvCZ4Ca14R1FF9ftOkyMSPxWvrSvLyXTAcvaVRfdUn/mfoXid73Frq/wDPyhg5/wDgeDwr/wDbQooor1j8/CiiigAooooAKKKKACiiigAooooAKKKKACiiigAooooAKKKKACiiigAooooAKKKKACiiigAooooAKKKKACiiigArxnxx/wApC/hf/wBkZ8ef%2BnbwhXs1eM%2BOP%2BUhfwv/AOyM%2BPP/AE7eEKAPZqKKKACud%2BK/xX8A/BHwFe/Ez4m642n6PYPBHNNFZzXMsks0yQQQRQQI8s80s0scUcUaNJJJIiIrMwB6KvIP21/hv4%2B%2BIfwn0i%2B%2BGXhltd1jwn4/8O%2BJ4fDqXcMD6tFp%2Bp29xPbRyTukSzGFJDF5rpGZVjDuikuoBuWX7VnwFv8A4FXf7SSeOXi8Iae1xHf3t5pF3Bc21xBcNay2sllJEt0l0twpg%2BzNEJvNxGELEKedf9vz9l5PCcXixPFPiKVpvEc2gDw9bfDvXJddTUorUXktu%2BkJZHUI2W2ZLgloABFJHJnZIjHxfXvgD%2B0R41/ZB%2BLvge7%2BA97Z678S/G1x4rHhq91rTN9vYSanbK%2Bmx3MV08cGqtYWjTpOpNvBdXMbLcMYi486P7F/xwTSbfVtV/Zs%2BJd14O/4XFq/iCz8JaZ8WreD4h2dpceHLWwjnn8QDWI3m3XiXpdP7Ukl%2ByyWcRd44TbKAffXw%2B8feDfir4E0b4m/DvxFb6voHiHS4NR0XVLRiYru1mjEkUqk4OGVgecHnmvkvxJ4z/4QD/glF8evE6y%2BXJH4k%2BLcFu%2BfuyzeLdehjP8A33Ite2/syfBz4p%2BCf2I/AnwM8beLG8K%2BK9H8CadpV9qfhC2sC2mTwwImLdZbZ7RigUJn7OYiQSqKCAPjv9peLWtB/wCCMvjX4WnxZf6xq/iP47eKPDsWs6lHAtzfTSfEbUt8si28UUId1jcsI40TLHaqjAHn5tVdHKq81uoS%2B/laX4tHlZ5WeHyXE1Fuqc7evK0vxaOi/at0TU/C/wDwSb%2BCP7HHh6Z7fWviiPBvgsGEfPH5qQT3cuOy4hcMTwBJz1r740XR9N8PaPaaBo1otvZ2NtHb2kCD5Y4kUKqj2AAH4V8kfFDTrT4s/wDBWT4RfBrTYt2i/Bj4c6j4svYRzGLq7K6faxt/toqiVR6EmvsCuTKqS%2Bs1praPJSXpTir/APk0n9x%2BocQUVknBGQ5JHR%2ByniZr%2B9XkqdK/pQw0WvKfnqUUUV7Z8IFFFFABRRRQAUUUUAFFFFABRRRQAUUUUAFFFFABRRRQAUUUUAFFFFABRRRQAUUUUAFFFFABRRRQAUUUUAFFFFABXjP7L/8AyW/9o7/ss1j/AOoV4Xr2avGf2X/%2BS3/tHf8AZZrH/wBQrwvQB7NRRRQAUUUUAFFFFABRRRQAUUUUAFFFFABRRRQAUUUUAFFFFABRRRQAUV5h%2B2n8XvFXwD/ZM%2BIfxj8DR2p1vw/4UvLrR3voi9vDdCMiKWVQQWiRyruuRlVYZGcjzLwV8dviz8B9J/aC8MfE3x/qXxMk%2BD3h6DxHo%2Bt6tp9jZ31/BNpMl01jONPt4Lcus1rKVdIVPlXESsHZC7gH05XwN/wU/wDHcvwq/wCCof7E3xCEjJCmq%2BLdIu5B91ItRfQbIs3oo84cnpxXsP8AwTz%2BOXjn4lW2o%2BHfjP49%2BIV94ym8K6J4ln0jxx4c0TT7WKxvxciO60tdLQuLSSWCdBDeyyXkIgQShS%2BX%2Bbv%2BC0Ovad8VPGIsPA%2Bl%2BIYPEfwt%2BE3ijxDDd6p4Q1KxtPOtfEXgyUyWt1cwRwXoEKT5a2kkCZG4jcM%2BbnDnHLKs4bxXN/4C1L8os8jPnUhk1epT%2BKEeZf8AbjjP8otfM91%2BAX/Ek/4K%2BftAaZ0/tvwF4V1HH97yYpLfP64r60r4w8P%2BN9O0T/grP4J%2BKuQNC%2BPHwCEHhyfd9%2B%2Bsplvmjz0P%2BiyK2fUivs%2BssnlF0q0V0qT%2B6TU196ldH6t4gtYitleNhrCtgMI0%2Bj5Kc6Mv/AZUuV9mFFFFeufABRRRQAUUUUAFFFFABRRRQAUUUUAFFFFABRRRQAUUUUAFFFFABRRRQAUUUUAFFFFABRRRQAUUUUAFFFFABRRRQAV4z44/5SF/C/8A7Iz48/8ATt4Qr2avGfHH/KQv4X/9kZ8ef%2BnbwhQB7NRRRQAUUUUAFFFFABX5x/GD/iqfhr8DvhAhz/b/AO3X4su7uL/npaWXjPxDNMuPTlD%2BFfo5X5lp4njX9qL4M28rA23gjx58fPF%2BpRnpiPxHrMcDH0xIrfnXkZ5JLLnF/alCPyc43/BM8jO6U8Tgo4aCvKrUpU0u7nVpqx73/wAE5f8Ai737Rv7R/wC1zP8AvYNe%2BIqeE/D8zcg6fo0Ag8yP0SR5Cx9WT1r65r5h/wCCNfhVvCn/AATZ%2BGSXCk3Op2F5ql3M/LzPc31xOHY9ztdRk9gK%2BnqrJItZVSnLea536zbm/wD0pL5H6p4n1qc%2BPcfh6T/d4eaw8P8ABhoww8fv9lKXrNhRRRXqnwQUUUUAFFFFABRRRQAUUUUAFFFFABRRRQAUUUUAFFFFABRRRQAUUUUAFFFFABRRRQAUUUUAFFFFABRRRQAUUUUAFeM/sv8A/Jb/ANo7/ss1j/6hXhevZq8Z/Zf/AOS3/tHf9lmsf/UK8L0AezUUUUAFFFFABRRRQAUUUUAFFFFABRRRQAUUUUAFFFFABRRRQAUUUUAZnjTwb4V%2BIvg7Vvh9460C11XRNd02fT9Y0u9iDw3lrNG0csMinhkdGZSO4Jri/hT%2Byf8ABD4LWdzY%2BBNE1rbf3M0%2BrSa34x1TVZdVklt4bYm9kvrmZ73bBbwxRicyCJIwsewZB9HooA87%2BBX7KvwN/Zum1C7%2BEfhe%2BtLjU7O0srm61XxJqGqTJZWvm/ZbKKS%2BnmeC1h86byraIrDGZXKou4581/an%2BHdt8Xv2o/DvwnvVUxeJv2c/iXpUm/pi4vvCcWf/AB%2Bvo6vGfHH/ACkL%2BF//AGRnx5/6dvCFTOEakHCWzTT9GrfqRUpwq05Qkrppp%2BjTT/Bs%2BIpvFuua1/wSD%2BAP7ZWkWkz%2BIv2fPE2nzX9uo/fGwsrxtLu7UjsHhWFm/wBlK/TrRtY0zxDpFpr%2Bi3qXNnfW0dxaXERyssTqGVx7EEH8a%2BLf2GvhnoXifw/%2B1f8AsG%2BLEC6dbfE3WVhg25NtpWt2oltwo/2R5jA%2BvNehf8Ej/iZrvjn9ijQvA/jZ8eJvhrqN54J8SwFsmG502XyUQ55z9n8gnPcmvl8knKjWpxl/y8ppP/HRbpy%2Bbhyv5H1uS1J574MYOc3erllZ0Zd/ZV%2Bbl%2BUcTh6i8vapdbH0zRRRX1R8qFFFFABRRRQAUUUUAFFFFABRRRQAUUUUAFFFFABRRRQAUUUUAFFFFABRRRQAUUUUAFFFFABRRRQAUUUUAFFFFABXjPjj/lIX8L/%2ByM%2BPP/Tt4Qr2avGfHH/KQv4X/wDZGfHn/p28IUAezUUUUAFFFFABRRRQAV%2BQF14s/wCLu/tG%2BLllxF4D%2BDXxXsIDn/U6hqPxB18I/wBTGwGK/X%2BvxHuhqg%2BDv/BQXxTD89zqfxtPhLQh/wBdPGOoSTx59xNmvmuKKjhgI27t/wDgNOo1%2BLX4Hq8KYBZt4i8O4B7VMfhr%2BkJ%2B0d/L3dT9Zv2H/Cf/AAg37Gfwo8ItFsksPhzo0U64x%2B9%2BxRGQ/i5Y/jXqVU/Dui2vhvw/Y%2BHbEYgsLOK2hGP4EQKP0FXK9/D0lQw8Kf8AKkvuSX6Geb46WZ5vica96tSpP/wOpOf/ALeFFFFbHnBRRRQAUUUUAFFFFABRRRQAUUUUAFFFFABRRRQAUUUUAFFFFABRRRQAUUUUAFFFFABRRRQAUUUUAFFFFABRRRQAV4z%2By/8A8lv/AGjv%2ByzWP/qFeF69mrxn9l//AJLf%2B0d/2Wax/wDUK8L0AezUUUUAFFFFABRRRQAUUUUAFFFFABRRRQAUUUUAFFFFABRRRQAUUUUAFFFFABXjPjj/AJSF/C//ALIz48/9O3hCvZq8Z8cf8pC/hf8A9kZ8ef8Ap28IUAeSHUk/Zl/4LAX974niNp4f/aG8D2dvpWpZxFJr%2BkgoLZz0VjasNpP3mdVGSTiH4a6zB%2Bx1/wAFQPG/wv8AF0b2HhL9oRbbX/A9%2B4Atv%2BEgt4vLv7Mt/DNMCswz975FGSwFesf8FB/2Xr79qr9nHUPCvg28%2BweNfD93F4g%2BHusRsEksdatCZLdlc/cD/NET2EhbGVFea6fZ%2BEf%2BCvv/AAT2sNQv5T4c8a2koaO8iDR3PhPxdYHaWGPnj2y844YwzDoxBHy1ehWoYqVKl8cZOtT/AL19KtO/zuv8UX0Z63h3nGXZFn%2BMyLNm44LMISTmld0%2BacJ%2B0S%2B08PiIwquO8qNSrFa2PrmivAf%2BCfX7Vuv/ALRnwz1DwX8YdOXSfir8PL/%2Bw/iRoRAUpeJkJeRgcGG4VTIrD5c7wpIUE%2B/V9DhcTSxmHjWpvSX3rumujTumujTDPckx/Dmb1stxsUqlJ2dneMk0nGcZLSUJxcZwktJQlFrd2KKKK6DyQooooAKKKKACiiigAooooAKKKKACiiigAooooAKKKKACiiigAooooAKKKKACiiigAooooAKKKKACiiigArxnxx/ykL%2BF/wD2Rnx5/wCnbwhXs1eM%2BOP%2BUhfwv/7Iz48/9O3hCgD2aiiigArxD9v7xJ4i0L4J6NpGieK9S0C08SfEvwr4f1/XNH1CSzurPTr7WrS2uBFcxMr2zzLJ9mEyMrx/aNyMjhWHt9ZvjHwZ4P8AiJ4Wv/A/xA8KabruiapbNb6no%2BsWMd1a3kLDDRyxSApIhHVWBBoA%2BM/EfxM%2BI3hX/gnz8ZtG8NfF3XzL4Y%2BKt94O8BeKtQ164nvriGTWbW0htJdSkkM6BLi5l05r9naa3SIzMzyQlj5jpvjj9qyTULP9kqN9bubuf9onVtD1zRk%2BOuspBp9vB4PttatdJi8WtC2rTQSeab1nEKXIlD2m1baMu333pv7O37P2jeEW8AaR8C/B1poL6EdEfRLbwxaR2jaYXdzYmFYwhty0kjeTjZl2OMk1Rf8AZR/Zbl%2BFK/AeX9mvwA3gdbr7SvgxvB1idJE%2B/f5otPK8nfvJbdtzk5zmgDE/Z0%2BNdh48/Y48JfGn4bfDrxVrENz4UtpdP8NS67DfatcFFEZiN7f3SR3UmVP%2BkzXAEwHmFyXyfzO%2BH2iahr/wG1201rwve6RffFn/AIKZ6rbXej6i8DXNnax63cl4ZjbySxM0UkUisY5JEznazDDH9gtH0fSPD2kWugaBpdtY2FjbJb2VlZwLFDbwooVI0RQFRVUABQAAAAK/ODSvD2l3Pxz/AGdfhnpsJzrP7V3xk8UXik53S2HiPWJN5%2BgYAfSvD4goqrgl6pf%2BByhH8rn3HhnQT4%2BweMf/ADDRxNb/AMF4PFST%2BT5X8j9KKKKK9w%2BHCiiigAooooAKKKKACiiigAooooAKKKKACiiigAooooAKKKKACiiigAooooAKKKKACiiigAooooAKKKKACiiigAooooAK8Z/Zf/5Lf%2B0d/wBlmsf/AFCvC9ezV4z%2By/8A8lv/AGjv%2ByzWP/qFeF6APZqKKKACiiigAooooAKKKKACiiigAooooAKKKKACiiigAooooAKKKKAPMP20/i94q%2BAf7JnxD%2BMfgaO1Ot%2BH/Cl5daO99EXt4boRkRSyqCC0SOVd1yMqrDIzkeffCn49eI/gHdfHLw1%2B0x8bNQ8W6B8HtMsvEU3jnWdJsre9XTJtMe6uIZ49Ot4IHeF7ad1McKsY5olYOyl3998aeDfCvxF8Hat8PvHWgWuq6Jrumz6frGl3sQeG8tZo2jlhkU8MjozKR3BNch8HP2W/g38Bd7/DTT9egmuL2W8v7vVfGmq6ncajO8ENv5l3Ne3Msl2Uht4IovOZ/JSMLHsGQQDwf/glx%2B2rrf7W/ij4x2viv9oHwZ4vuNG8W6ddaHofg/WdNvYvDml3uj2Vylj51kW%2B1eTO9xC9y7OJJ4ZwhVFWNOzv/id4b8Y/8FNvBfgzSdN8Qw3nh74PeOI7%2BbVfCOo2NpKX1bwlg211cwRwXoG05a3eQLkbiNy59p8LfDHwP4K8V%2BJvG/hnQ/s2qeMdSgv/ABJdfaZX%2B2XENpDZxvtdiseILeFMIFB2biCxJPm/jj/lIX8L/wDsjPjz/wBO3hCgD2avij402HxA/wCCZ37Rvif9sDwP4Un174K/EW8guvizoWlQs134Y1FRsbW4Ix/rIXzmcAbs/MeAuPteo7yztNQtJbC/tY54J42jmhmQMkiMMFWB4IIJBB61xY3B/W4Jxlyzi7xl2drbdU1pJdV2aTXn5jgPr1OLhLkqQfNCS15ZWtqusWtJR6p9Gk18s/tB/suW37Q15ov7e37A3xX0/QviamlRyaT4itZfM0nxfp%2BAVsdQReJEIAUSY3xkAHlE2dR%2ByB%2B334M/aH1C6%2BDvxQ0M/D/4v6A5g8T/AA51ucJcCRVyZ7Nif9Kt2HzK6ZIUgn5Srt5jq/7L37Uv/BP3xVq3xF/4J/WFl4x%2BG2qXzahrvwK1a5Nu9jK3MsujXJyIi3XyGG3qFDkoFnfxR/wTo/4K0aVF4T8aWk3h34l6FIY49K1Q/wBi%2BMfDV0h3EQk/OwRvm%2BXzIs4LKGGB4UKtahirwSp1pfFTk2qdV/zU5bKT%2B/pODtzn3GR8e5PnOAo8PcZwlCdNctCvBKVSmlf3I8zisThtbqjKca9G79k0m6cvsmivje01X/gqB%2BxHGdL1fw3b/tJfD%2BzOLbVLC4Fj4vs7cdpYmzHflRgDZmWQ5LFc4HonwP8A%2BCov7GPxv1L/AIRNfikng/xTHJ5V54O%2BIMB0bUrab/niUuCEkfnpG7161LN8LKap170pv7M9L/4ZfDL/ALdl8kenj/DzP6WGljcs5cdhY6urhm6nKv8Ap7SS9vRfdVaKSd17SW7%2BhKKSORJUEsThlYAqynII9aWvUPhAooooAKKKKACiiigAooooAKKKKACiiigAooooAKKKKACiiigAooooAKKKKACiiigAooooAKKKKACvGfHH/KQv4X/9kZ8ef%2BnbwhXs1eM%2BOP8AlIX8L/8AsjPjz/07eEKAPZqKKKACiiigAooooAK/N/8AZ4v7TXP%2BCjngPTL6YLF4Lm%2BMuvMSCfL%2B1%2BPdYsQcDnJICjHJPFfpBX5of8E9R/wl/wDwUc%2BMfiLG/wD4Q%2B%2B8QaFu/ufa/ibq97t/HGa8nNveWHp/zVYf%2BS80v/bUfoHh/wDuXm2L/wCfWAxNvWoqNBff7WSP0a/4TDSf%2BfTVP/BHd/8Axql/4TDSf%2BfTVf8AwR3f/wAar528ff8ABZH/AIJvfC/x3rXw08c/tG/Ydb8O6tc6ZrFl/wAIhrEv2e6t5Wilj3x2jI%2B10YblJU4yCRzWT/w/L/4Jaf8AR0P/AJZOt/8AyFVSzzJYScZYmmmv78f8zOj4W%2BJmIoxq0skxcoySaaw9VpppNNNQs0000%2BqafU%2Bn/wDhMNJ/59NV/wDBHd//ABqj/hMNJ/59NV/8Ed3/APGq%2BdvAP/BZH/gm98UPHei/DTwN%2B0b9u1vxFq1tpmj2X/CIaxF9ouriVYoo98loqJud1G5iFGckgc1337f3xg%2BJn7Pv7E3xT%2BOPwbtNNm8T%2BEvA%2Boaro66vMyW6ywQtJvfbHJu2qGYJtw7KELIGLr14XG4PGxcsPUjNLfladvWx8/nnDPEnDFaFLOMFVw0ppuKq0503JJ2bSmk2k9G110PS/wDhMNJ/59NV/wDBHd//ABqj/hMNJ/59NV/8Ed3/APGq%2Be9T/bc%2BNvhX4h%2BOfBfxC%2BBXgTQtP%2BGXw8tPE3jnxPd/FS6Njbvdxao1vbW2NHEs6h9PjEsrpEUS4LRxzOgik5n4bf8ABSrV/irqnhnQ9W%2BE%2Br%2BF9bi%2BNEvg7xDpCy3ltDIh8H6hr8M%2B3WNHtL14XSGJNv2e0kEqBllkhUrcdJ4Z9Vf8JhpP/Ppqv/gju/8A41R/wmGk/wDPpqv/AII7v/41Xzz%2ByV%2B3z8Sf2h9P0S48c/swf8I/d%2BLPhNovxB8J6X4e8aw6rPdadfMEeCc3EFlFb3EJeJioeRHR8hwymOup/ar8WfFXUvi18L/2ePhb8V9Q8CN42utYutW8V6NptjdXsVvYWQkW2gW/t7i3VpJpoWZnic%2BVBKq7WYSIAeu/8JhpP/Ppqv8A4I7v/wCNUf8ACYaT/wA%2Bmq/%2BCO7/APjVfOUH7Qn7SPxP/wCCZHhD4/8Aw%2BtLn/hOdd0jw7N4hu/Cuhre3FvaS39pFrGoadZSLIJ5UszeXNvAVl3Msa7JziN%2BL8BfHH9pX40fs1fEHUPAvi7426hrvwz%2BJV/oelXPh3wp4X0zxJ4osxY2l5by3lnr1nDaQbBehGSOK2mbyB%2B7Vy0VAH2D/wAJhpP/AD6ar/4I7v8A%2BNUf8JhpP/Ppqv8A4I7v/wCNV8LQftoftM%2BMvAUP7QWk/HHT47LwN4E%2BGmq6t4e8N6JbNpXjO412RH1KUveW5vIYWhkEdmsTwPHKrNMJgfKX1PxN8e/F3wA/al8UT%2BKf2lta8W/D/wAIfD/XfFvxcs9V0DTFsvAluhiuNMgtprK0iuGnkt1vD5FxJcyPDAJSY90fmgH0r/wmGk/8%2Bmqf%2BCO7/wDjVX7C/tNTtEvrGcSRSDKsAR3wRg8gg5BB5BFfJf8AwS4/bV1v9rfxR8Y7XxX%2B0D4M8X3GjeLdOutD0PwfrOm3sXhzS73R7K5Sx86yLfavJne4he5dnEk8M4QqirGn1L4P/wCQTN/2FL7/ANK5aANWiiigAooooAKKKKACiiigAooooAKKKKACiiigAooooAKKKKACiiigAooooAK8Z/Zf/wCS3/tHf9lmsf8A1CvC9ezV4z%2By/wD8lv8A2jv%2ByzWP/qFeF6APZqKKKACiiigAooooAKKKKACiiigAooooAKKKKACiiigAooooAKKKKACiiigArxnxx/ykL%2BF//ZGfHn/p28IV7NXjPjj/AJSF/C//ALIz48/9O3hCgD2aiiigAryP9pT9hX9lb9rSBZvjb8I9Pv8AVIVUWfiOz3WmqWpXlDHdQlZMKcEKSUyOVNeuUVlXoUMTTdOtFSi%2BjSa/EwxGGw2MoulXgpxe6kk19z/4fzPj%2BL9lL/gpJ%2BzUnl/sqftm6f8AEDw/bnNp4O%2BOGnPcTxIP4F1S2xM5xwoYKi4HbNcT8aPjzqHi/Sj4d/4KV/8ABHjxHqcNuhjbxN4M0618UW0Sd5klhKT2adejbhnHWvvaivKqZNHkcKNWUYv7MrVIf%2BA1LtfKRyYHCZlkmJjicmx1bDVI/C4zckvS8lOP/btRenQ/LX4daj/wTltbk2/7FH/BVrx18C7yOQqvhHxRqs39kWUn9x7PV0RGIP8A02Yds1714N8c/wDBWLQdPGo/Dn4nfAL4/wCiRjIvLG9k0nU7gdjmBmtEz%2BPNfVHxE%2BCHwX%2BLtubT4r/CLwx4miK7SniDQbe8GPT96jV4R4w/4I2f8E5fFt%2BdZtv2d4NB1AEmG%2B8La3e6a0J9VSCZYx/3zXm/2NmOG/3dxX%2BCdSn/AOSv2tP7kl6H3H/ETPESrpm9LBZmu%2BIoJVX/ANxoKFW/m6s3fW7Mcf8ABRz9pH4ejy/2h/8Agl18W9K8vi4ufAUlr4ngX1fdbtH8vf2HrVzRv%2BC0f/BP%2Ba%2BTRfHXxK1vwVqT/wDMN8ZeDtRs5FPcM3ktGMe7VU/4dRSeFfn%2BDP7f/wC0L4VVf9TYHx99usY/TEE0XP4tVXWP2JP%2BCj1nYtpmhf8ABTy28Q6ef%2BYR45%2BDumXiP/vzBt5/Kn7Tiah9ly9VSl%2BMZUn%2BAf64cJYn/kYcL1aT74THXXyp4mFRfLn%2BZ7V4K/br/Yt%2BIoRfBn7V3w9vpZMbbZPF1ok/4xPIHH4ivTdJ1rR9es11DQ9Wtr23b7s9pOsiH6MpIr89PGn/AATc/bY1ku%2BtfA/9jLxmW/1t1q3w9vtLvJR/10skGD9TivMtV/4JdfHfRrxtUtv%2BCYXw5N73vfh38ddX0lz/ALq3MzIv/fNH9s51S/iYW/oqi/8AliF/aXhTiN3meGf9/CYfEL/wKhiKbt58t/I/WGivyVH7NX7efgj5tF/Zv/an8KrH9yPwh%2B1Xpmo25H/XF7ckj2LUv/Caf8FPvA/Gl63%2B15p%2Bzp9r%2BG%2BjeJ8fnLHv/rR/rPOH8XCzXpf9YRD2XhrW/hcQcn/X/L8wpfe4066%2B4/WmivyXH7d3/BUPweMaj4r%2BMNxs6t40/ZJSyB%2Bpsrp8fhQv/BY3/goD4WIGtN8NZY1%2B%2BfEfwp8WWUv/AJAR1Bo/1wy2P8SFSP8A27/wUH9k8KVP4PEmXv8Ax1cRR/8AT2Cj%2BJ%2BtFFfk0P8Ag4V%2BMnh1xD4p8K/Ce9kzgx2TeI7It9PtFiQPxNa%2Bl/8AByJru8R3/wCyh4bvlPWex%2BLkNsB/wC5s1P61UeM%2BHm7Oq16xf6XHHhvDVf4Gb5bU9Mxwi/CpOk/wP1Oor82NM/4OMvAbKG1/9mOW3/vfYviZpFxj82TNa0P/AAch/so2Y3eI/gp46hx97%2BzbvSLv8sXq5rePFnDr/wCYhL1Ul/7aaQ4Ozas7UKuGqf4MdgJfljYn6I0V8D6L/wAHGP7B%2Bs4J8F/E62z/AM9vDVq%2BP%2B/V29dNp3/Be7/gn9egG61TxrZg97nwZcHH/fvdW8OJcgn8OJh9/wDmkVLgbiqLssOn/hrYaf8A6Ri5n2lRXyLbf8F0P%2BCZ0gB1H46ajYev2vwTq3H/AHxbNWtp/wDwWn/4Ji6lg237VWnrnp5/h/U4v/Q7UVtHPckltiaf/gcf8w/1E41avHLqz9IOX4xlI%2BpKK%2BdbH/grX/wTh1HH2f8Aa48LLn/nu80X/ocYrYsv%2BCmP/BPvUMeR%2B2L8Plz/AM9/EsEX/obCto5rlctq8P8AwOP/AMkRLgbjaKu8rxP/AIIrP8qbPcqK8ks/2%2B/2FtQwLT9sz4VsT0U/EDTlP5GYGtWz/bB/ZJ1HH9n/ALUnw5nz08nxvYNn8pa1WOwUtqsX/wBvR/8AkjjqcL8T0f4mArx9aFdfnRR6NRXG2n7RX7Pt/j7B8dfBs%2Benk%2BJ7Rv5SVqWnxU%2BGF/j7D8R9Bmz08rWIG/k1aqvQltNP5r/M4KmV5pR/iYepH1pzX5wRvUVTtfEGgX3/AB465ZzZ6eVco38jVwEEZByK0TT2OOUJwdpJr1VvzCiiimSFFFFABXjPjj/lIX8L/wDsjPjz/wBO3hCvZq8Z8cf8pC/hf/2Rnx5/6dvCFAHs1FFFABRRXn/7S/xxufgD8NYvFmi%2BEV8Qa1qviHS9B8N6HJqP2OO91HUL2K0gWWfy5DBCrS%2BZLII5GWKNyqSMFRgD0Civn68/bkvtA/ZM8eftC%2BLPhGLbxB8N9Xv9I8V%2BFLPXTPa217a3CxNKL426H7D5UkV21y0CtHbsztCGRo646x/4Ki6ddfsj%2BK/2jbL4a6L4g1bRvE154f8ACeleB/HK6ro3jO8gs1vGl03VvssXm2kcf2j7RP8AZ8wHTr3CS%2BSN4B9ZV%2Bcn/BIbw%2B7/ALQ/7YnjyQFhc/tJ3WmQsf4Rb%2BI9SdlHpzcAmvv74XeNf%2BFk/DPw78Rf7M%2Bxf2/oVpqX2PzvM8jz4Ul8vftXdt3Y3YGcZwOlfIH/AASf8LNo/gj9ojxJPH%2B81r9tHxvIj46xReIxCo/Bkk/OvPxdP2mKw7/llJ/%2BSSX6n13D2NWDyDOI31q0aVP78VSk/wAKaPtyivmLx/8A8FNf%2BEC8d634F/4d8/tPa1/Yur3Nh/bGgfCf7TYX/kytH59tL9pHmwvt3o%2BBuVlOBmsj/h7D/wBY1P2tP/DN/wD3VWcs6yyMnF1NV/dn/wDKz84lxDk0JOMquq0%2BGp00/wCfR9aVi/Ef4eeDPi58Ptc%2BFXxG0GLVfD/iXSLnS9c0ydmVLq0uImimiJQhgGRmGVIIzkEHmvnzwD/wU1/4T3x3ovgX/h3z%2B09ov9tavbWH9sa/8J/s1hYedKsfn3Mv2k%2BVCm7e74O1VY4OK9m/aT8YfE74efALxf8AEH4M%2BHLTWfE%2Bg6Bc6lo%2Bi3sLumpSQIZTagI6EPKqNGjbsK7qxDAFT14bGYbGRcqMrpb6SX/pUY/qduDx%2BDzCLlh5cyWj0kvP7UY/hcxoP2Nf2eF8K%2BKfB2p%2BENS1ez8a%2BG7fQfFUviLxXqep3WpWEH2nyY5Lm7uZJ96fa58ShxKNy/P8ibc7wP8AsFfstfD3Ul1zw/4C1KbUh4uHiiXVta8Y6tqV5cauNIm0YXc1xeXUss7DT55bfEjMu0qcbkRl8N8R/wDBR/4m/Ejwtc%2BMf2XG0PVbDxH47m0j4USxeEl1RvEGnWGkLdareyNc63pVtDHFd%2BfAHa4XaLNwElaQeXxPg39ur4jfFzxHonx4svtNrp3jz4Zfs76rH4UbX737DpU/iLxdrttfyQfZp4tzmLyUZjlJ1tYVmSWJfKPSdh9h%2BGP2TvgR4JsdEsPB3hO90pfDnga08HaJNp3iPUIZrTRbV43gtVlScOdpijzIWMjAEM7BmB0fjf8As9fCn9onRNP0P4paPqMw0jUTfaRf6J4ivtIvrG4MMsDPDeWE0NxFuhmmicJIA6SMrAqSK%2BTfgn%2B1T%2B1B8bv2pPhB4w1PxV4R/sTx38LfH%2Bt%2BHPh7pV1e6e1rJZ3%2BjQW0GrSma4S6lj80o1wltEbaR7hFikzk%2B3ftv6t4kn0z4UfDeXxVqvh3SPHfxXsND8Z6l4b1240%2B6hszp9/dJBDe27RT2/n3trZ2vmRtHIy3BVSpcUAehSfs7/CxPAY%2BGGjWOsaLoEXhyw0Ky0zwz4r1HSo9PsbMk26Wn2O4iNm6g7TLAUldERGdljRV527/AGJf2fp/h5p3wtsbDxbpekabdXlyDoHxL17Tbu9nu3MlzLe3drex3F%2B8rku7XMkpZjuJJ5ry/wCEWo/tC/FP/gm3430P4T/Em7n8aWepeO/DngHxZrGqlri4t9P17VNP0y4kvJQ5aU2ttAPtbhy7YnbfuOeK/Z9s/ir8WdO%2BN/wLPgvx9YWHhLxTox8E%2BHvHH7QmrWmqw38ulRT3en3fiDSbq%2BukjG5LoQrNdbVuk3KqssUQB9Can%2Bwv%2BytqfiXwv4ob4UpaS%2BDtN0nT9CsNL1i9s9PFrpcxn0yGexgmS2vEs5SZbcXEcggcl49jHNT/AAl/Y1%2BBHwN%2BI%2BvfFT4ZWviyx1TxPrd9rGu29z8Sddu9Pu7%2B7YNPcNYXF7JaBzhVUiIeWqKibVVQPg6f41fFzxf%2BzRqWv%2BMP2kvGWmav8Lv2a/EXinw1f6X4su7YXvifTtY1Gzma4eGYf27BZvYWVsv2jzYrtLwSyRl7hdv0v4r8ET%2BKf%2BCinwxsPCfjXx/pV/YeG7/x38TtLh%2BJ%2BuPpLQmAaZp2mvpjXhskjmuZ7m5ASFctozZPzMGAPo/wt8MfA/grxX4m8b%2BGdD%2Bzap4x1KC/8SXX2mV/tlxDaQ2cb7XYrHiC3hTCBQdm4gsSTa8H/wDIJm/7Ct9/6Vy1qVl%2BD/8AkEzf9hW%2B/wDSuWgDUooooAKKKKACiiigAooooAKKKKACiiigAooooAKKKKACiiigAooooAKKKKACvGf2X/8Akt/7R3/ZZrH/ANQrwvXs1eM/sv8A/Jb/ANo7/ss1j/6hXhegD2aiiigAooooAKKKKACiiigAooooAKKKKACiiigAooooAKKKKACiiigAooooAK8Z8cf8pC/hf/2Rnx5/6dvCFezV84ftH6v8a9H/AG8PhPP8Dvh/4W8Rak3wj8drd2nivxhc6LBHB/anhIl0lt9PvWd920bDGowSd%2BQFIB9H0V4z/wAJx/wUL/6Nf%2BDP/h%2BNW/8AmXo/4Tj/AIKF/wDRr/wZ/wDD8at/8y9AHs1FeM/8Jx/wUL/6Nf8Agz/4fjVv/mXo/wCE4/4KF/8ARr/wZ/8AD8at/wDMvQB7NRXzjpP7R37dusfGfX/gdb/sofCRdU8O%2BF9I128uX%2BOuqeRJBqNzqVvCiEeGNxdW0ucsCoADx4LEsF6j/hOP%2BChf/Rr/AMGf/D8at/8AMvQB7NRXjP8AwnH/AAUL/wCjX/gz/wCH41b/AOZej/hOP%2BChf/Rr/wAGf/D8at/8y9AHs1FeM/8ACcf8FC/%2BjX/gz/4fjVv/AJl65fwD%2B0d%2B3b8RPFfjfwho/wCyh8JIbjwH4oi0LVZLn466oEnnk0rT9TDxbfDBJTydRhUlgp3o4xgBmAPo6ivGf%2BE4/wCChf8A0a/8Gf8Aw/Grf/MvR/wnH/BQv/o1/wCDP/h%2BNW/%2BZegD2aivGf8AhOP%2BChf/AEa/8Gf/AA/Grf8AzL0f8Jx/wUL/AOjX/gz/AOH41b/5l6APZqK%2BcfhF%2B0d%2B3b8ZfCl34v8ADn7KHwktrez8Ua3oUkd78ddUVzPpeq3WmTuNvhhhsaa0kZDnJRlJCnKjqP8AhOP%2BChf/AEa/8Gf/AA/Grf8AzL0AeySRRzIYpo1dSOVYZBrJ1D4d/D/Vs/2r4G0e5z1%2B0aZE%2BfzWvMf%2BE4/4KF/9Gv8AwZ/8Pxq3/wAy9H/Ccf8ABQv/AKNf%2BDP/AIfjVv8A5l6mUYy3VyZQhP4kmdnffs4fs86pn%2B0/gN4Muc9fP8L2j5/OOse9/Yt/Y61LP9o/sm/DO4z18/wJp75/OGsT/hOP%2BChf/Rr/AMGf/D8at/8AMvXL/BH9o79u348fBjwh8cfCv7KHwktdL8Z%2BF9P13TbbUPjrqizwwXdtHcRpIE8MMocLIAwVmGQcEjmspYXCy%2BKnF/8Absf/AJEwlgsFP4qUX6xi/wD20628/wCCen7Bl9nz/wBjD4WjP/PLwHp8f/oMQrLu/wDgmL/wT2vc%2Bd%2Bx14AXP/PHw9FH/wCggVf/AOE4/wCChf8A0a/8Gf8Aw/Grf/MvR/wnH/BQv/o1/wCDP/h%2BNW/%2BZesXluXS3ow/8Aj/APImEspymW%2BHp/8AgEP/AJA566/4JNf8E47zPm/sieEhn/nlbyJ/6C4rOuf%2BCOn/AATRu/8AW/sm6GM/887%2B9T/0GcV2X/Ccf8FC/wDo1/4M/wDh%2BNW/%2BZeuX%2BN37R37dvwH%2BDHi/wCOPir9lD4SXWl%2BDPC%2Boa7qVtp/x11Rp5oLS2kuJEjD%2BGFUuVjIUMyjJGSBzWbyjKXvh4f%2BAR/yMnkORy3wtP8A8Fw/%2BRMa5/4Iof8ABMC6/wBb%2BytZDP8Azz8Saqn/AKDdCqM//BDL/gltNkj9mMxk94/GmtD/ANvMV6f/AMJx/wAFC/8Ao1/4M/8Ah%2BNW/wDmXo/4Tj/goX/0a/8ABn/w/Grf/MvUPI8le%2BGp/wDgEf8AIyfDnDzf%2B50v/Bcf8jySf/gg7/wTBm%2B58Ar6L/c8Z6qf/Qrk1Tn/AOCBf/BM2X/V/CLWYv8Ac8X3/wDWU17P/wAJx/wUL/6Nf%2BDP/h%2BNW/8AmXo/4Tj/AIKF/wDRr/wZ/wDD8at/8y9Q%2BH8if/MLT/8AAUbRyPJ6fwUIr0TX5SR4bN/wb9f8E2ZfueAPEkf%2B54suf6k1Wl/4N6v%2BCckn3PDfi6P/AHPFUn9VNep/F39o79u34NeFLTxf4j/ZQ%2BElzb3nijRNCjjsvjrqjOJ9U1W10yBzu8MKNizXcbOc5CKxAY4U9R/wnH/BQv8A6Nf%2BDP8A4fjVv/mXqHw5kD/5hYf%2BAo3jl%2BEh8MWvSdRflVR89y/8G7v/AATuk%2B5aeN0/3fE4/rEah/4h2f2A4/8Ajz1v4i2//XDxREP525r6K/4Tj/goX/0a/wDBn/w/Grf/ADL0f8Jx/wAFC/8Ao1/4M/8Ah%2BNW/wDmXqf9WeH/APoFh93/AATZYeMdpzX/AHFr/wDy8%2Bd0/wCDez9jGA5svix8Xbf08jxfbj/20qxD/wAECv2YbX/jx/aQ%2BOdvjp5Pjm2XH/knX0B/wnH/AAUL/wCjX/gz/wCH41b/AOZeuX8fftHft2/DvxX4I8Iax%2Byh8JJrjx54ol0LSpLb466oUgnj0rUNTLy7vDAITydOmUFQx3ugxgllFw1kK2w0fx/%2BSFLDQlvOf/g2v/8ANB5nb/8ABDH4JWf/AB4/ti/tEwenk/EWBf8A2zq/b/8ABF7wJZDFh%2B3t%2B05B6eV8UYl/lZ17L/wnH/BQv/o1/wCDP/h%2BNW/%2BZej/AITj/goX/wBGv/Bn/wAPxq3/AMy9WuHsljtRX3z/APkznnleDqfFzP8A7i1v/l55JF/wSFt7X/jx/wCCkP7U8OOm34sAfythUXwL/ZLv/wBlz/gob4O%2B2ftPfFT4jrrvwZ8ZeWPib4rOqHTvJ1bwtn7NlF8vzPNG/wDveVH/AHa9g/4Tj/goX/0a/wDBn/w/Grf/ADL1Q8D%2BB/2rPGP7Vnhz43fG74cfD3wzo3hn4e%2BIdDhh8K/EO%2B1q6u7rUr7RLhGZLjSLFIo0TS5QWDuxaVAFxkjooZTl%2BFqqpShZr%2B9N/g5tfgKhlOAw1ZVacWpLq5VH%2BEqkl%2BDPdaKKK9E9EK8%2B/aX%2BB118fvhrF4T0Xxevh/WtK8Q6Xr3hvXJNO%2B2R2eo6fexXcDS2/mRmeFmi8qWMSRs0UjhXjYq6%2Bg0UAfOEv7C3jjVf2f8Axb8HfEXx2sJtV8Z%2BIv8AhKNZ8R2fg54lfXhqkV8jfZnvXVtNCW1raGyZi7wROHuWMhYYOu/8EsPBnxU8K%2BNr/wCPXxM1LUfHnjPWNV1M%2BKPAd/rHhWz0ye%2B0jT9JdIbKx1TdNCYNMtWkjubibzZPNJKrJsH1bRQBwPw8/Z0%2BHvhD9nDQ/wBmLxdpkXjDw7pXhu20e9t/FgfUk1OOKNVJnW9eZpFYrnbIz7RhQcKK8j/4J%2B/DXwZ8Jf2V9d8O%2BA9BttL0m3%2BPPjqeHTtPtEht7KCLxzqaCOKKNQscUcMKqqqAFVABwK%2Bmq%2BSv2SvFn7Z2n/D3xRZ/DH4B/DDV9CT40/EX%2Bz9R174u6jpt3Mv/AAmesljJbRaBcpEQ24ACZ8gA5BO0JpNp9i41KkYSgnpK1/Ozuvuep9Qf8Jz4J/6HDS//AAYR/wDxVL/wnPgn/ocNK/8ABhH/APFV5b/wnH/BQv8A6Nf%2BDP8A4fjVv/mXo/4Tj/goX/0a/wDBn/w/Grf/ADL0yD1L/hOfBP8A0OGlf%2BDCP/4qj/hOfBP/AEOGlf8Agwj/APiq8t/4Tj/goX/0a/8ABn/w/Grf/MvR/wAJx/wUL/6Nf%2BDP/h%2BNW/8AmXoA1L74GfsUap8ONJ%2BDup/B34W3HhHQL37ZoXhWfw9pr6bptzukbzoLYp5UMm6WU70UHMjnPzHOhp/w4/ZR0m1tbLSvAfw9tobK00m0sobfS7FFt4NLnkuNMiQBQES0nlllt1GBBJI7xhWYk%2BZ/BH9o79u348fBjwh8cfCv7KHwktdL8Z%2BF9P13TbbUPjrqizwwXdtHcRpIE8MMocLIAwVmGQcEjmuo/wCE4/4KF/8ARr/wZ/8AD8at/wDMvQBq2PwP/Yq0vxTrfjnTPhB8LrfW/EsF1D4j1iDw/pqXWqx3WPtKXMoTfOsu1fMDkh8DdnFdB430r4AfEzwRc/DL4kab4O8QeG7yFIrvw9rkNpd2M8aMrIjwSho2VWVSAVwCoI6CuK/4Tj/goX/0a/8ABn/w/Grf/MvR/wAJx/wUL/6Nf%2BDP/h%2BNW/8AmXoA6oeCf2YR4et/CI8I%2BAxpNp4bn8PWul/YLL7PDpE4jWbTkj27VtZBDEHgA8thEgKnaMYd1%2Bz5%2BwxffC21%2BB178EPhPN4Ksr831n4Pl8NaY2lwXR35nS0MfkpJ%2B8f5wob5255NcT8bv2jv27fgP8GPF/xx8VfsofCS60vwZ4X1DXdSttP%2BOuqNPNBaW0lxIkYfwwqlysZChmUZIyQOa6j/AITj/goX/wBGv/Bn/wAPxq3/AMy9AG74g%2BE37IHiyx8MaX4q%2BGnw21O28Eyxy%2BDLfUNG0%2BaPQHQIEayV0ItSojTBi2kbFx0FdJaXfwesPFF943sbrw1DrWp2dtZ6lq8L263V3b27TNbwyyj55I4muLhkViQhnkKgb2z59/wnH/BQv/o1/wCDP/h%2BNW/%2BZej/AITj/goX/wBGv/Bn/wAPxq3/AMy9AHqP/Cc%2BCf8AocNL/wDBhH/8VR4MO/QzOoOya%2Bu5YiRjcj3MjK30KkEexry7/hOP%2BChf/Rr/AMGf/D8at/8AMvXL/F39o79u34NeFLTxf4j/AGUPhJc2954o0TQo47L466ozifVNVtdMgc7vDCjYs13GznOQisQGOFIB9HUV4z/wnH/BQv8A6Nf%2BDP8A4fjVv/mXo/4Tj/goX/0a/wDBn/w/Grf/ADL0AezUV4z/AMJx/wAFC/8Ao1/4M/8Ah%2BNW/wDmXo/4Tj/goX/0a/8ABn/w/Grf/MvQB7NRXzj4%2B/aO/bt%2BHfivwR4Q1j9lD4STXHjzxRLoWlSW3x11QpBPHpWoamXl3eGAQnk6dMoKhjvdBjBLL1H/AAnH/BQv/o1/4M/%2BH41b/wCZegD2aivGf%2BE4/wCChf8A0a/8Gf8Aw/Grf/MvR/wnH/BQv/o1/wCDP/h%2BNW/%2BZegD2aivGf8AhOP%2BChf/AEa/8Gf/AA/Grf8AzL1y%2BrftHft26P8AGfQPgdcfsofCRtU8ReF9X12zuU%2BOuqeRHBp1zptvMjk%2BGNwdm1SAqApBCSZKkKGAPo6ivGf%2BE4/4KF/9Gv8AwZ/8Pxq3/wAy9H/Ccf8ABQv/AKNf%2BDP/AIfjVv8A5l6APZqK8Z/4Tj/goX/0a/8ABn/w/Grf/MvR/wAJx/wUL/6Nf%2BDP/h%2BNW/8AmXoA9mor5x0n9o79u3WPjPr/AMDrf9lD4SLqnh3wvpGu3ly/x11TyJINRudSt4UQjwxuLq2lzlgVAAePBYlgvUf8Jx/wUL/6Nf8Agz/4fjVv/mXoA9morxn/AITj/goX/wBGv/Bn/wAPxq3/AMy9H/Ccf8FC/wDo1/4M/wDh%2BNW/%2BZegD2aivGf%2BE4/4KF/9Gv8AwZ/8Pxq3/wAy9cv4B/aO/bt%2BInivxv4Q0f8AZQ%2BEkNx4D8URaFqslz8ddUCTzyaVp%2Bph4tvhgkp5OowqSwU70cYwAzAH0dRXjP8AwnH/AAUL/wCjX/gz/wCH41b/AOZej/hOP%2BChf/Rr/wAGf/D8at/8y9AHs1eM/sv/APJb/wBo7/ss1j/6hXhej/hOP%2BChf/Rr/wAGf/D8at/8y9W/2Vvhz8afB%2BsfFDx38dNA8L6Tqnj74hRa5Z6V4T8S3OrW9raxaDo%2BmKr3FxZWbNI0mnSuVEW0LIg3Mc4APW6KKKACiiigAooooAKKKKACiiigAooooAKKKKACiiigAooooAKKKKACiiigAr5X/ae/a0%2BLnww%2BMfizWvAPh3wfJ4Y%2BD/h/w/e%2BNTrWkXE2q6pb6vfypcwWFxHcRpZeRbWcdxmSKcXMhSMiHy/NP1RXjPxn/Yh%2BHHxu%2BKR%2BJmueOfFWlxaja6Ra%2BL/DWjXVqmneKYNLvZL2xivllt5Jgsc00ufs8sBljkMUxljCoAD2aiiigAooooA%2BY/Dn7SvxMh/b/wDFHwf%2BI2seHvCfhtfEFpongyLUfhFrKXXjGAaBBqOIPEbXa6c0sd3c6gBaCF5PLtJgFBZpF%2BnK8r8WfstQeP8A4yaR8U/Hvxv8a6vpXh7XY9a0DwBcHTItGsdQjt3gjnDQ2SXsuzzJJFSa6kjEj7tnyIF9UoAKKKKAPF/%2BCgvxd%2BOH7P37I/jT49fAK98KR6x4J0K71y6g8YaLc31td2lrbSzPboltdWzJK7IiiQuVQFiUfgV5/wCPP2tPi54L%2BPHi3U/Cnh3whF8PPCHxj8I/D7xlZzaRcHW9V1XXYNFSPUIbtLhYY44P7c0mMxSW8ryJDPiWPagr2H9rH9nGy/a0%2BBGvfs%2B618VfFPhHSfE9lLY65f8AhBdO%2B13NlLE8U1tuv7S6jRHV%2BWRFkBUbXXnPFwfsA%2BDp/iLZ/EXxV8cfH2usdZ0nXPE2jahLpUVj4n1zTEjSx1a9jtrCJluIhBaYW2aCBjY2xeJjHkgHvdFFFABXi/7ZPxd%2BOHwStfAPjH4WXvhT%2BxtQ%2BJnhzw94vsfEGi3NzdXNrqus2Omg2csN1CltJGtzLJvkSdSURdnJNe0V5V%2B1d%2By2/wC1V4b0LwvP8ffG/ga30LxJYa6jeC4dHZ7u9sbyC8s2lOpafeDbFcW8bhYwgblZN6naADzj9nn9pX4ma3%2B1V4t%2BCPxQ1fw94T06HxTrdv4J8JSfCLWdMudetoXSU39vrVxd/YNQdjJNLLFbQF%2BS7FcMT9OV5LpP7KIf4yaL8ZfiP%2B0B478azeF7u8u/CeheIRpMNho91c28lrJcRLYafbSyv9nmnhXz5JVRZ32gEgj1qgAooooA8P8A27vi58eP2fvg1q/x1%2BFHjHwLY6f4W0W5vL3RfFnhm9v7nxDe5RbPTLOS2vYPs81xKRbo3lXTNLPEFhY/K3n/AMEf2vvjPrnxL8Ff2t4M8JaR8NPG/wAT/FHw28K%2BGtO0uaPV9Ev9Ah1bfPPci4a3mgkbw/qaLDHbxGNWtj5kmWA9P/aV/ZBg/aS8eeCPiBN%2B0D478IXPgG7ub3RbHwxFo09nJeyoI1vJoNT068R54Y/MWGQBTGJ5SPmbIq%2BA/wBhr4e%2BA/jLb/F2H4i%2BLtSg07XdT17RPCGpXNl/ZOla3qMbx6hqkCRWqT%2BfOJ7ssrzPCjX1yY4o/M4APa6KKKACvl/9rn48ftL/AAW%2BImn%2BFNKh8AeNdH8cw61baL8OYvB99JrCWtpod1dyX9xOL14rq2F1Fb20kItYgft8KCYyMiSfUFeHTfsTXEf7R/iv9prRP2q/iXp2r%2BLdNh0650uGDw/PaafZwwNHDbWbXOky3NvEsrvdbFm2vO5dw4O2gBn7CH7Qfjf49/D28uviv4%2B0a%2B8XacLNtf8ADdl8LtX8I3mgPPbLKILmy1e6nuHBbf5dwAkciodobaTXuleb/A79m7Tvgz4n8SfEPWPil4p8ceKvFcVjb6x4n8XNYLcvaWYm%2By2qRafa2ttHFG1zcuNsIZmuJCzNkY9IoAKKKKAPjn/goJ%2B3H8VP2MPHP9p65ougeMfCL6NqOt2/hWX4c6nZS26abo19qSSf8JFNdPpk939r00bLFYEuhHMsoG2FpG9e/Zo%2BLvxz1b4qeN/2ev2jrnwpqHifwjpOh61HrXgrSLmwsbmx1QXkaRGC5ubl1liuNOu1L%2BbiRDE2yMkqK3x1/YS8EftOa1dWvx/%2BLfjXxR4LuZLiRfhleSabDosUk1jNZM2%2B3so76QCO4mYJLdOgd9235EC9P%2Bz5%2BzNpHwDvNe8RXfxQ8WeOPEfiQ2cereKvGtxZvfS21pEYrW1H2O2t4ViiDysMR72eeV3Z2cmgD0qiiigAr4j/AGp/2yv2s/g38avEHwo8HeG/DnjXU7DRbjXfDAT4H%2BII5NFA1HTLVDC325x4mkFjqlx539l%2BU8LQlZRGJhHX25Xh%2BvfsW6n4l8en4na1%2B1z8UZtb0%2BC8i8G3hTQAPCq3U0Mk/wBkjGk7J2aOBbfderdMsTOFKu7OQDqv2WPiw/xk%2BEcHiy9%2BJmjeKr%2BHUbqy1S%2B0bwZfeHRbXEUrK1rNpuoXE91ZzxjCvHM4fPzbVDAV6NXDfAP4C%2BHvgB4Z1PRtK8U634g1HX9euNb8SeJPEc0DXuq38wRGnlFvFDAmI4oYlSGKONUiQBRgk9zQAUUUUAFFFFABRRRQAUUUUAUfFHiGw8JeGtR8V6qHNrpljNd3IiXLeXGhdsDucKa%2Bc/2Jv2k/jX4/8U6P4M%2BNnh7wZZjx18LbL4jeGYfBmlXFoNMjvLgm70%2B7M1xKLuaN7m2f7YggE7SzEwR7QX%2Blru0tb%2B1lsb23SaGaNo5opVDK6kYKkHggjjFeQ/szfsV%2BAv2YNVfV9A%2BIPi3xLLbeGLHwz4dHiy9tZhoGhWbyPb6bam3t4S0amT5pZzNcSCOLzJn8tcAHsVFFFABXC/tQePPiL8LP2aPiJ8Tvg/4UXXvFvhzwLq%2BqeFtDaxmuhqOo29nLLbWxhgZZZhJKiJ5cbB23YUgkGu6rO8W6Jf8AiXwxqHh/S/Feo6Fc3tpJDb61pCwNdWLspAmiFxFLEXU8gSRumR8ysMggHl37FPxan%2BKHwzvrLVviF4f1nU/Duqrp15pmifDDU/Bz6GgtoJIrO40rVLme5hcI4kV28tHili2Jgb39irzz4D/s7aT8DrzxL4jufiJ4k8Y%2BJPF%2Bow3niLxT4rezF3dGG3S3giEdjbW1tFFHGgCrHCmSzsxZmZj6HQAUUUUAfLn7VH7WPxQ/Zw%2BL3jiy%2BJWjeEvEXwvsP2d/F/j220K30S4TVXbRBpaz21xcyXL280U6304CC2QqETLvlhXb/sz/ABf%2BPmqfFzxl%2Bzr%2B0s/hK88UeGPDHh7xLHqvgrSbmxspLLVn1K3W2MNzc3LmWG40i7BlEgWRHiby4zuWoPjH%2Bwr4d%2BOnx1b4y%2BPPjt45l02bwVqfhG%2B%2BHsMGi/2Jd6NqS232%2B0kL6a16RO1pA7OLoOpQhGRGZD0n7O/7Luh/s%2B32teI5/ih4t8b%2BIdftbCyv/E/ja5tJL02Fiki2dmPsltbx%2BVEZ7hwShkd7mV3d2bNAHp9FFFABXyJ8a/2l/wBrbwZrv7QHgS38K%2BDPFl74C8P%2BFPEnw2sdJ%2BH%2Bp386x6jqupQhLy1ivHl1GeBdNjnU2wtyXJCr8qtX13Xhcv7FHiGL46eNvj/oX7aHxW0rVvG%2BkWOmXNjZWfhhrTTbayuLmezS2EuivJ%2B6N5dKDM8pdZyJPMKoVAOr/ZU%2BLc3xl%2BFI8Taj8TtG8U6ja6rc2OrXWj%2BCL/w2bO4ib5rWfTNRuJ7q0nRSu5JmDEMrbVVhXpNcJ8A/gHoHwB0LWbHT/FuueI9V8TeIJdc8T%2BJvEktu17qt/JDDB5sgtoYYIwsFvbwqkUUaKkKALnJPd0AFFFFAHxt%2B0t%2B13%2B0t%2Bzx8ZoPhtrKfDPxrfa3BBN4Rh07wte2kvgu81LxDpnh7SJtTle%2BmF1FO2rzgtEtnI4sbpYwy%2BYYvcf2Vfi/8SPiMPH/w%2B%2BMR0SfxV8NPHjeGtZ1Xw1p01nYan5ml6dq1vcQ28088lvm11S3R42mlxJHJhiCMcLbf8E1fCTXXxDfxD%2B0v8TtZt/iTrx1zWLfUjoXmWepRXEM%2Bn3NtdRaWl0psHt7cWkbzSRRLCgZH5z6x8A/gLofwD8Patptl4v1zxJq3iLXpta8T%2BKPEr2xv9XvpI4ofOmFrBBAuyCC3gRIoo0WOCNQvBJAO6ooooAZc/afs0n2PZ52w%2BV5udu7HGcc4zXxB8Vv2uf20/hp8RNc%2BG1vbeA/GeveGL3w1b6t468EfBXX9Wj8OW%2BrNePe2EulWepT3dzNHDZWN0TFOn7u6haWBAYmk%2B3ruGS4tZbeG6kgeSNlWeIKXjJGAy7gVyOoyCPUGvnv4MfsBeIPgJ8Nrj4afDv8Abq%2BMUUd1qz6nNrN5ZeE59Qlu5XlkuZ5pn0I/aZJ3l3SSTiR8xpsKAYIB6z8BPiHZfFb4O%2BH/AIhWHxA0bxUmp6eJH1/w/pM1haXcgJWQpazzTS2xV1ZGhkkd42VlY7lIHX1yXwL%2BC/hL9n34X6d8KfBVzf3FlYS3VxNfarcia6vru6uZbq6upnCqGlmuJ5pX2qq7pDtVVwo62gAqj4nh8SXPhvULfwbqdjZavJZSrpd5qdg91bQXBQiOSWGOWJpo1bBZFkjLAEB1J3C9Wb4x0G/8UeFr/wAO6X4t1LQbm8tXig1rRxAbqxcjiaIXEUsRdTyBJG6HHzKwyKAPh74b/t2fta/GD4p638EvhZpvw%2BTxnptrrt9J4z8V/C7WtDXVNM0i10WVLGXRLy%2BTUNPle78Q7EmnmePyoZLhIXWdAfsb4BfFrTfj58CfBXx10bTZbOz8a%2BEtN160s5n3PBFeWsdwsbEAZKiQAn1FeLav/wAEyPA%2Bta5ffEW7/aU%2BKafEDVkvLXWviTbXukQ6tf6ZdW1rbTaYUTTRZw2xSytGHkW0UqyQLKsocsx%2Bg/Bfg/w18PPB2k%2BAPBmkxafo%2Bh6ZBp%2Bk2EOdltbQxrHFGuecKiqo%2BlAGnRRRQBy/xp1Hxxo3wt1rW/hz4hsdL1awszdQ32oeD73xAiRxkPKBp1jPBc3kjRK6pFDIHLsuFc/I3xb8Jf8Agoj8fvEnjTQ9T8b3HhHwJ4M1KedfEHji8%2BBniKa21i/h1%2B60hEuZVvo08MzyWtpa/uNUaSWB5VjfOwJX238TPBmu%2BPfCU3hzw38Utf8ABt5JLG8Wv%2BGYrF7uDawJVVv7a5gYMAVIeJuCcYOCPFbr/gnN4U1DwfcfDbVv2kPibd%2BGNc1Ca/8AHmgTXGjiLxhdz3jXVxNfSrpouIvNLLC0dnLaxCGJI1RRu3AH0TRRRQAUUUUAFFFFABRRRQAUUUUAFFFFABRRRQAUUUUAFFFFABRRRQAUUUUAFFFFABRRRQAUUUUAFFFFABRRRQAUUUUAFFFFABRRRQAUUUUAFFFFABRRRQAUUUUAFFFFABRRRQAUUUUAFFFFABRRRQAUUUUAFFFFABRRRQAUUUUAFFFFABRRRQAUUUUAFFFFABRRRQAUUUUAFFFFABRRRQAUUUUAFFFFABRRRQAUUUUAFFFFABRRRQAUUUUAFFFFABRRRQAUUUUAFFFFABRRRQAUUUUAFFFFABRRRQAUUUUAFFFFABRRRQAUUUUAFFFFABRRRQB//9k%3D\">"
      ]
     },
     "metadata": {},
     "output_type": "display_data"
    }
   ],
   "source": [
    "s.run(tf.global_variables_initializer())\n",
    "\n",
    "BATCH_SIZE = 512\n",
    "EPOCHS = 40\n",
    "\n",
    "# for logging the progress right here in Jupyter (for those who don't have TensorBoard)\n",
    "simpleTrainingCurves = matplotlib_utils.SimpleTrainingCurves(\"cross-entropy\", \"accuracy\")\n",
    "\n",
    "for epoch in range(EPOCHS):  # we finish an epoch when we've looked at all training samples\n",
    "    \n",
    "    batch_losses = []\n",
    "    for batch_start in range(0, X_train_flat.shape[0], BATCH_SIZE):  # data is already shuffled\n",
    "        _, batch_loss = s.run([step, loss], {input_X: X_train_flat[batch_start:batch_start+BATCH_SIZE], \n",
    "                                             input_y: y_train_oh[batch_start:batch_start+BATCH_SIZE]})\n",
    "        # collect batch losses, this is almost free as we need a forward pass for backprop anyway\n",
    "        batch_losses.append(batch_loss)\n",
    "\n",
    "    train_loss = np.mean(batch_losses)\n",
    "    val_loss = s.run(loss, {input_X: X_val_flat, input_y: y_val_oh})  # this part is usually small\n",
    "    train_accuracy = accuracy_score(y_train, s.run(classes, {input_X: X_train_flat}))  # this is slow and usually skipped\n",
    "    valid_accuracy = accuracy_score(y_val, s.run(classes, {input_X: X_val_flat}))  \n",
    "    simpleTrainingCurves.add(train_loss, val_loss, train_accuracy, valid_accuracy)"
   ]
  },
  {
   "cell_type": "markdown",
   "metadata": {},
   "source": [
    "# Submit a linear model"
   ]
  },
  {
   "cell_type": "code",
   "execution_count": null,
   "metadata": {},
   "outputs": [],
   "source": [
    "## GRADED PART, DO NOT CHANGE!\n",
    "# Testing shapes \n",
    "grader.set_answer(\"9XaAS\", grading_utils.get_tensors_shapes_string([W, b, input_X, input_y, logits, probas, classes]))\n",
    "# Validation loss\n",
    "grader.set_answer(\"vmogZ\", s.run(loss, {input_X: X_val_flat, input_y: y_val_oh}))\n",
    "# Validation accuracy\n",
    "grader.set_answer(\"RMv95\", accuracy_score(y_val, s.run(classes, {input_X: X_val_flat})))"
   ]
  },
  {
   "cell_type": "code",
   "execution_count": null,
   "metadata": {},
   "outputs": [],
   "source": [
    "# you can make submission with answers so far to check yourself at this stage\n",
    "grader.submit(COURSERA_EMAIL, COURSERA_TOKEN)"
   ]
  },
  {
   "cell_type": "markdown",
   "metadata": {},
   "source": [
    "# MLP with hidden layers"
   ]
  },
  {
   "cell_type": "markdown",
   "metadata": {},
   "source": [
    "Previously we've coded a dense layer with matrix multiplication by hand. \n",
    "But this is not convenient, you have to create a lot of variables and your code becomes a mess. \n",
    "In TensorFlow there's an easier way to make a dense layer:\n",
    "```python\n",
    "hidden1 = tf.layers.dense(inputs, 256, activation=tf.nn.sigmoid)\n",
    "```\n",
    "\n",
    "That will create all the necessary variables automatically.\n",
    "Here you can also choose an activation function (remember that we need it for a hidden layer!).\n",
    "\n",
    "Now define the MLP with 2 hidden layers and restart training with the cell above.\n",
    "\n",
    "You're aiming for ~0.97 validation accuracy here."
   ]
  },
  {
   "cell_type": "code",
   "execution_count": null,
   "metadata": {},
   "outputs": [],
   "source": [
    "# write the code here to get a new `step` operation and then run the cell with training loop above.\n",
    "# name your variables in the same way (e.g. logits, probas, classes, etc) for safety.\n",
    "### YOUR CODE HERE ###"
   ]
  },
  {
   "cell_type": "markdown",
   "metadata": {},
   "source": [
    "# Submit the MLP with 2 hidden layers\n",
    "Run these cells after training the MLP with 2 hidden layers"
   ]
  },
  {
   "cell_type": "code",
   "execution_count": null,
   "metadata": {},
   "outputs": [],
   "source": [
    "## GRADED PART, DO NOT CHANGE!\n",
    "# Validation loss for MLP\n",
    "grader.set_answer(\"i8bgs\", s.run(loss, {input_X: X_val_flat, input_y: y_val_oh}))\n",
    "# Validation accuracy for MLP\n",
    "grader.set_answer(\"rE763\", accuracy_score(y_val, s.run(classes, {input_X: X_val_flat})))"
   ]
  },
  {
   "cell_type": "code",
   "execution_count": null,
   "metadata": {},
   "outputs": [],
   "source": [
    "# you can make submission with answers so far to check yourself at this stage\n",
    "grader.submit(COURSERA_EMAIL, COURSERA_TOKEN)"
   ]
  },
  {
   "cell_type": "code",
   "execution_count": null,
   "metadata": {},
   "outputs": [],
   "source": []
  }
 ],
 "metadata": {
  "kernelspec": {
   "display_name": "Python 3",
   "language": "python",
   "name": "python3"
  },
  "language_info": {
   "codemirror_mode": {
    "name": "ipython",
    "version": 3
   },
   "file_extension": ".py",
   "mimetype": "text/x-python",
   "name": "python",
   "nbconvert_exporter": "python",
   "pygments_lexer": "ipython3",
   "version": "3.5.2"
  }
 },
 "nbformat": 4,
 "nbformat_minor": 1
}
